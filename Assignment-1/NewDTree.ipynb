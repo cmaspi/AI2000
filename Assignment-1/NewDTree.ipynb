{
 "cells": [
  {
   "cell_type": "code",
   "execution_count": 1,
   "metadata": {},
   "outputs": [],
   "source": [
    "import numpy as np\n",
    "import random\n",
    "from statistics import mode\n",
    "import csv"
   ]
  },
  {
   "cell_type": "code",
   "execution_count": 2,
   "metadata": {},
   "outputs": [],
   "source": [
    "def retList(filename):\n",
    "    f = open(filename,'r')\n",
    "    dataString = f.readlines()\n",
    "    data = []\n",
    "    for i in range(len(dataString)):\n",
    "        data.append(dataString[i].split())\n",
    "    return np.array(data,dtype=float)\n",
    "\n",
    "def accuracy(label, predicted):\n",
    "    N= len(predicted)\n",
    "    crt = 0\n",
    "    for i in range(N):\n",
    "        if label[i] == predicted[i]:\n",
    "            crt=crt+1\n",
    "    if N==0:\n",
    "        raise ValueError(\"Input array size must be greater than 0\")\n",
    "    return crt/N\n",
    "\n",
    "def randomList(n, bool):\n",
    "    if bool:\n",
    "        return np.random.choice(n-1,n//3)\n",
    "    else :\n",
    "        return np.array(range(n-1))"
   ]
  },
  {
   "cell_type": "code",
   "execution_count": 3,
   "metadata": {},
   "outputs": [],
   "source": [
    "def giniIndex(data):\n",
    "    pos, neg = 0,0\n",
    "    for i in data:\n",
    "        if i[-1]==0:\n",
    "            neg=neg+1\n",
    "        else :\n",
    "            pos=pos+1\n",
    "    \n",
    "    pos=pos/(pos+neg)\n",
    "    neg=1-pos\n",
    "    return 1-pos*pos-neg*neg\n",
    "\n",
    "def entropy(data): \n",
    "    if len(data)==0:\n",
    "        return 0   \n",
    "    n0,n1=0,0\n",
    "    for i in data:\n",
    "        if i[-1]==0:\n",
    "            n0=n0+1\n",
    "        else:\n",
    "            n1=n1+1\n",
    "    p1=n0/(n1+n0)\n",
    "    p2=1-p1\n",
    "    if p1 != 0:\n",
    "        p1=-p1*np.log(p1)\n",
    "    if p2 != 0:\n",
    "        p2=-p2*np.log(p2)\n",
    "    return p1+p2\n",
    "\n"
   ]
  },
  {
   "cell_type": "code",
   "execution_count": 4,
   "metadata": {},
   "outputs": [],
   "source": [
    "def BestSplit(data, numThreshold, func, featureList):\n",
    "    InfoGain = 0\n",
    "    Left=None\n",
    "    Right=None\n",
    "    Threshold=None\n",
    "    Feature=None\n",
    "    for feature in featureList:\n",
    "        minVal = np.min(data[:,feature])\n",
    "        maxVal = np.max(data[:,feature])\n",
    "        Tvals = np.linspace(minVal,maxVal,numThreshold+1,endpoint=False)[1:]\n",
    "\n",
    "        for threshold in Tvals:\n",
    "            left=[]\n",
    "            right=[]\n",
    "            for instance in data:\n",
    "                if instance[feature]<threshold:\n",
    "                    left.append(instance)\n",
    "                else :\n",
    "                    right.append(instance)\n",
    "            if len(left)==len(data) or len(right)==len(data):\n",
    "                continue\n",
    "            infogain = func(data)-len(left)/len(data)*func(left)-len(right)/len(data)*func(right)\n",
    "            if infogain > InfoGain:\n",
    "                Threshold = threshold\n",
    "                Feature = feature\n",
    "                InfoGain = infogain\n",
    "                Left= np.array(left)\n",
    "                Right = np.array(right)\n",
    "    # if len(Left)==len(data) or len(Right)==len(data):\n",
    "    #     Left=None\n",
    "    #     Feature=None\n",
    "    #     Threshold=None\n",
    "    #     Right = None\n",
    "    return {'feature':Feature, 'threshold': Threshold, 'left':Left, 'right':Right}\n",
    "\n",
    "\n"
   ]
  },
  {
   "cell_type": "code",
   "execution_count": 5,
   "metadata": {},
   "outputs": [],
   "source": [
    "class DecisionTree():\n",
    "    tree={}\n",
    "\n",
    "    def learn(self, train, numThreshold, func, randomFeatures):\n",
    "        tree = {'feature':None, 'threshold':None, 'leftTree':None,'rightTree':None, 'value':None}\n",
    "\n",
    "        if func(train)!=0:\n",
    "            split=BestSplit(train,numThreshold,func,randomList(len(train[0]),randomFeatures))\n",
    "            tree['feature']=split['feature']\n",
    "            tree['threshold']=split['threshold']\n",
    "            if tree['feature'] is None:\n",
    "                tree['value'] = mode(train[:,-1])\n",
    "                return tree\n",
    "            else:\n",
    "                tree['leftTree'] = DecisionTree.learn(self,split['left'],numThreshold,func,randomFeatures)\n",
    "                tree['rightTree'] = DecisionTree.learn(self,split['right'],numThreshold,func,randomFeatures)\n",
    "                return tree\n",
    "        else :\n",
    "            tree['value']=mode(train[:,-1])\n",
    "            return tree\n",
    "    \n",
    "    def classify(self,tree,instance):\n",
    "        if tree['value'] is not None:\n",
    "            return tree['value']\n",
    "        else:\n",
    "            if instance[tree['feature']] < tree['threshold']:\n",
    "                return self.classify(tree['leftTree'],instance)\n",
    "            else :\n",
    "                return self.classify(tree['rightTree'],instance)\n",
    "    \n",
    "def runDecisionTree(train, test, numThreshold=10, func=entropy, randomFeatures=False):\n",
    "    Tree=DecisionTree()\n",
    "    tree= Tree.learn(train,numThreshold,func,randomFeatures)\n",
    "    predicted = []\n",
    "    for instance in test:\n",
    "        predicted.append(Tree.classify(tree,instance[:-1]))\n",
    "    print(accuracy(test[:,-1],predicted))\n"
   ]
  },
  {
   "cell_type": "code",
   "execution_count": 6,
   "metadata": {},
   "outputs": [],
   "source": [
    "# class randomForest():\n",
    "#     forest=[]\n",
    "#     def build(self,numTrees, train,numThreshold, func):\n",
    "        "
   ]
  },
  {
   "cell_type": "code",
   "execution_count": null,
   "metadata": {},
   "outputs": [],
   "source": []
  },
  {
   "cell_type": "code",
   "execution_count": 10,
   "metadata": {},
   "outputs": [
    {
     "name": "stdout",
     "output_type": "stream",
     "text": [
      "1610\n",
      "0.9717595944967415\n"
     ]
    }
   ],
   "source": [
    "data = retList(\"data.txt\")\n",
    "random.shuffle(data)\n",
    "n=len(data)\n",
    "train = np.array([x for i, x in enumerate(data) if i % 10 > 2 ])\n",
    "test = np.array([x for i, x in enumerate(data) if i % 10 <= 2])\n",
    "\n",
    "# Tree= DecisionTree()\n",
    "# tree= Tree.learn(train,10,giniIndex,False)\n",
    "# print(tree)\n",
    "# print(len(train[:len(train)//2]))\n",
    "runDecisionTree(train,test,10,entropy, False)"
   ]
  },
  {
   "cell_type": "code",
   "execution_count": 8,
   "metadata": {},
   "outputs": [
    {
     "name": "stdout",
     "output_type": "stream",
     "text": [
      "0.8639455782312925\n"
     ]
    }
   ],
   "source": [
    "with open(\"wine-dataset.csv\") as f:\n",
    "    next(f, None)\n",
    "    Tdata=[]\n",
    "    for line in csv.reader(f,delimiter=\",\"):\n",
    "        row=[float(x) for x in line]\n",
    "        Tdata.append(row)\n",
    "data = np.array(Tdata)\n",
    "random.shuffle(data)\n",
    "n=len(data)\n",
    "train= data[:int(0.7*n)]\n",
    "np.random.shuffle(train)\n",
    "test= data[int(0.7*n):]\n",
    "# Tree= DecisionTree()\n",
    "# tree= Tree.learn(train,10,giniIndex,False)\n",
    "# print(tree)\n",
    "runDecisionTree(train,test,10)"
   ]
  }
 ],
 "metadata": {
  "interpreter": {
   "hash": "916dbcbb3f70747c44a77c7bcd40155683ae19c65e1c03b4aa3499c5328201f1"
  },
  "kernelspec": {
   "display_name": "Python 3.8.10 64-bit",
   "name": "python3"
  },
  "language_info": {
   "codemirror_mode": {
    "name": "ipython",
    "version": 3
   },
   "file_extension": ".py",
   "mimetype": "text/x-python",
   "name": "python",
   "nbconvert_exporter": "python",
   "pygments_lexer": "ipython3",
   "version": "3.8.10"
  },
  "orig_nbformat": 4
 },
 "nbformat": 4,
 "nbformat_minor": 2
}
