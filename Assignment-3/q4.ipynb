{
 "cells": [
  {
   "cell_type": "code",
   "execution_count": 2,
   "metadata": {},
   "outputs": [],
   "source": [
    "import numpy as np\n",
    "from statistics import mode\n",
    "from sklearn.ensemble import RandomForestClassifier\n",
    "import matplotlib.pyplot as plt"
   ]
  },
  {
   "cell_type": "code",
   "execution_count": 3,
   "metadata": {},
   "outputs": [],
   "source": [
    "def retList(filename):\n",
    "    f = open(filename,'r')\n",
    "    dataString = f.readlines()\n",
    "    data = []\n",
    "    for i in range(len(dataString)):\n",
    "        data.append(dataString[i].split())\n",
    "    return np.array(data,dtype=float)\n",
    "\n",
    "def accuracy(label, predicted):\n",
    "    N= len(predicted)\n",
    "    crt = 0\n",
    "    for i in range(N):\n",
    "        if label[i] == predicted[i]:\n",
    "            crt=crt+1\n",
    "    if N==0:\n",
    "        raise ValueError(\"Input array size must be greater than 0\")\n",
    "    return crt/N\n",
    "\n",
    "def randomList(n, bool, m=None):\n",
    "    if m is None:\n",
    "        m = int(np.sqrt(n)) \n",
    "    if bool:\n",
    "        return np.random.choice(n-1,m)\n",
    "    else :\n",
    "        return np.array(range(n-1))"
   ]
  },
  {
   "cell_type": "code",
   "execution_count": 4,
   "metadata": {},
   "outputs": [],
   "source": [
    "def giniIndex(data):\n",
    "    pos, neg = 0,0\n",
    "    for i in data:\n",
    "        if i[-1]==0:\n",
    "            neg=neg+1\n",
    "        else :\n",
    "            pos=pos+1\n",
    "    \n",
    "    pos=pos/(pos+neg)\n",
    "    neg=1-pos\n",
    "    return 1-pos*pos-neg*neg\n",
    "\n",
    "def entropy(data): \n",
    "    if len(data)==0:\n",
    "        return 0   \n",
    "    n0,n1=0,0\n",
    "    for i in data:\n",
    "        if i[-1]==0:\n",
    "            n0=n0+1\n",
    "        else:\n",
    "            n1=n1+1\n",
    "    p1=n0/(n1+n0)\n",
    "    p2=1-p1\n",
    "    if p1 != 0:\n",
    "        p1=-p1*np.log(p1)\n",
    "    if p2 != 0:\n",
    "        p2=-p2*np.log(p2)\n",
    "    return p1+p2\n",
    "\n"
   ]
  },
  {
   "cell_type": "code",
   "execution_count": 5,
   "metadata": {},
   "outputs": [],
   "source": [
    "def BestSplit(data, numThreshold, func, featureList):\n",
    "    InfoGain = 0\n",
    "    Left=None\n",
    "    Right=None\n",
    "    Threshold=None\n",
    "    Feature=None\n",
    "    for feature in featureList:\n",
    "        minVal = np.min(data[:,feature])\n",
    "        maxVal = np.max(data[:,feature])\n",
    "        Tvals = np.linspace(minVal,maxVal,numThreshold+1,endpoint=False)[1:]\n",
    "\n",
    "        for threshold in Tvals:\n",
    "            left=[]\n",
    "            right=[]\n",
    "            for instance in data:\n",
    "                if instance[feature]<threshold:\n",
    "                    left.append(instance)\n",
    "                else :\n",
    "                    right.append(instance)\n",
    "            if len(left)==len(data) or len(right)==len(data):\n",
    "                continue\n",
    "            infogain = func(data)-len(left)/len(data)*func(left)-len(right)/len(data)*func(right)\n",
    "            if infogain > InfoGain:\n",
    "                Threshold = threshold\n",
    "                Feature = feature\n",
    "                InfoGain = infogain\n",
    "                Left= np.array(left)\n",
    "                Right = np.array(right)\n",
    "    # if len(Left)==len(data) or len(Right)==len(data):\n",
    "    #     Left=None\n",
    "    #     Feature=None\n",
    "    #     Threshold=None\n",
    "    #     Right = None\n",
    "    return {'feature':Feature, 'threshold': Threshold, 'left':Left, 'right':Right}\n",
    "\n",
    "\n"
   ]
  },
  {
   "cell_type": "code",
   "execution_count": 6,
   "metadata": {},
   "outputs": [],
   "source": [
    "class DecisionTree():\n",
    "    tree={}\n",
    "\n",
    "    def learn(self, train, numThreshold, func, randomFeatures,m):\n",
    "        tree = {'feature':None, 'threshold':None, 'leftTree':None,'rightTree':None, 'value':None}\n",
    "\n",
    "        if func(train)!=0:\n",
    "            split=BestSplit(train,numThreshold,func,randomList(len(train[0]),randomFeatures,m))\n",
    "            tree['feature']=split['feature']\n",
    "            tree['threshold']=split['threshold']\n",
    "            if tree['feature'] is None:\n",
    "                tree['value'] = mode(train[:,-1])\n",
    "                return tree\n",
    "            else:\n",
    "                tree['leftTree'] = DecisionTree.learn(self,split['left'],numThreshold,func,randomFeatures,m)\n",
    "                tree['rightTree'] = DecisionTree.learn(self,split['right'],numThreshold,func,randomFeatures,m)\n",
    "                return tree\n",
    "        else :\n",
    "            tree['value']=mode(train[:,-1])\n",
    "            return tree\n",
    "    \n",
    "    def classify(self,tree,instance):\n",
    "        if tree['value'] is not None:\n",
    "            return tree['value']\n",
    "        else:\n",
    "            if instance[tree['feature']] < tree['threshold']:\n",
    "                return self.classify(tree['leftTree'],instance)\n",
    "            else :\n",
    "                return self.classify(tree['rightTree'],instance)\n",
    "    \n",
    "def runDecisionTree(train, test, numThreshold=10, func=entropy, randomFeatures=False,m=None):\n",
    "    Tree=DecisionTree()\n",
    "    tree= Tree.learn(train,numThreshold,func,randomFeatures)\n",
    "    predicted = []\n",
    "    for instance in test:\n",
    "        predicted.append(Tree.classify(tree,instance[:-1]))\n",
    "    print(accuracy(test[:,-1],predicted))\n"
   ]
  },
  {
   "cell_type": "code",
   "execution_count": 7,
   "metadata": {},
   "outputs": [],
   "source": [
    "class randomForest():\n",
    "    forest=[]\n",
    "    def build(self, numTrees,train,numThreshold, func,m):\n",
    "        forest=[]\n",
    "        oob_data=[]\n",
    "        for i in range(numTrees):\n",
    "            np.random.shuffle(train)\n",
    "            tree = DecisionTree().learn(train[:len(train)//10],numThreshold,func,True,m)  \n",
    "            forest.append(tree)\n",
    "            oob_data.append(train[len(train)//10:])\n",
    "        return forest, oob_data\n",
    "\n",
    "    def classify(self, forest, instance):\n",
    "        predicted=[]\n",
    "        for tree in forest:\n",
    "            predicted.append(DecisionTree().classify(tree,instance))\n",
    "        return mode(predicted)\n",
    "    \n",
    "def runRandomForest(numTrees, train, test,m=None, numThreshold=10, func=entropy,oob=False):\n",
    "    Forest = randomForest()\n",
    "    forest,oob_data = Forest.build(numTrees, train,numThreshold,func,m)\n",
    "    oob_error=None\n",
    "    predicted = []\n",
    "    for instance in test:\n",
    "        predicted.append(Forest.classify(forest,instance[:-1]))\n",
    "    if oob:\n",
    "        acc = 0\n",
    "        for instance in train:\n",
    "            pred = []\n",
    "            for i in range(len(oob_data)):\n",
    "                if np.any(np.all(np.isin(oob_data[i],instance,True),axis=1)):\n",
    "                    Tree = DecisionTree()\n",
    "                    pred.append(Tree.classify(forest[i],instance))\n",
    "            if instance[-1]==mode(pred):\n",
    "                acc=acc+1\n",
    "\n",
    "\n",
    "        acc = acc/len(train)\n",
    "        oob_error=1-acc\n",
    "    return accuracy(test[:,-1],predicted),oob_error\n",
    "\n",
    "    \n",
    "\n"
   ]
  },
  {
   "cell_type": "code",
   "execution_count": 12,
   "metadata": {},
   "outputs": [
    {
     "name": "stdout",
     "output_type": "stream",
     "text": [
      "The accuracy of random forest is: 0.9514844315713251\n",
      "The accuracy of sklearn random forest is: 0.9608979000724113\n"
     ]
    }
   ],
   "source": [
    "data = retList(\"data.txt\")\n",
    "train = np.array([x for i, x in enumerate(data) if i % 10 > 2 ])\n",
    "test = np.array([x for i, x in enumerate(data) if i % 10 <= 2])\n",
    "np.random.shuffle(train)\n",
    "print(\"The accuracy of random forest is:\",runRandomForest(100,train,test,m=10,numThreshold=15,func=entropy)[0])\n",
    "clf = RandomForestClassifier()\n",
    "clf.fit(train[:,:-1],train[:,-1])\n",
    "predicted = clf.predict(test[:,:-1])\n",
    "print(\"The accuracy of sklearn random forest is:\",accuracy(test[:,-1],predicted))\n",
    "\n"
   ]
  },
  {
   "cell_type": "code",
   "execution_count": 14,
   "metadata": {},
   "outputs": [
    {
     "data": {
      "image/png": "[encoded data removed]",
      "text/plain": [
       "<Figure size 432x288 with 1 Axes>"
      ]
     },
     "metadata": {
      "needs_background": "light"
     },
     "output_type": "display_data"
    }
   ],
   "source": [
    "x,y=[],[]\n",
    "for m in [3,7,15,25,32,40]:\n",
    "    y.append(runRandomForest(100,train,test,m))\n",
    "    x.append(m)\n",
    "plt.plot(x,y)\n",
    "plt.grid()\n",
    "plt.xlabel(\"praramter m\")\n",
    "plt.ylabel('accuracy')\n",
    "plt.show()\n",
    "\n"
   ]
  },
  {
   "cell_type": "code",
   "execution_count": 15,
   "metadata": {},
   "outputs": [
    {
     "name": "stdout",
     "output_type": "stream",
     "text": [
      "The oob error is : 0.05124223602484468\n"
     ]
    }
   ],
   "source": [
    "print(\"The oob error is :\",runRandomForest(100,train,test,oob=True)[1])"
   ]
  },
  {
   "cell_type": "code",
   "execution_count": 48,
   "metadata": {},
   "outputs": [
    {
     "name": "stdout",
     "output_type": "stream",
     "text": [
      "m: 7\n",
      "The oob error is : 0.0670807453416149\n",
      "m: 14\n",
      "The oob error is : 0.0661490683229814\n",
      "m: 21\n",
      "The oob error is : 0.07329192546583851\n",
      "m: 35\n",
      "The oob error is : 0.07391304347826089\n"
     ]
    }
   ],
   "source": [
    "for m in [7,14,21,35]:\n",
    "    print(\"m:\",m)\n",
    "    print(\"The oob error is :\",runRandomForest(10,train,test,oob=True,m=m)[1])"
   ]
  },
  {
   "cell_type": "code",
   "execution_count": null,
   "metadata": {},
   "outputs": [],
   "source": []
  }
 ],
 "metadata": {
  "interpreter": {
   "hash": "916dbcbb3f70747c44a77c7bcd40155683ae19c65e1c03b4aa3499c5328201f1"
  },
  "kernelspec": {
   "display_name": "Python 3.8.10 64-bit",
   "name": "python3"
  },
  "language_info": {
   "codemirror_mode": {
    "name": "ipython",
    "version": 3
   },
   "file_extension": ".py",
   "mimetype": "text/x-python",
   "name": "python",
   "nbconvert_exporter": "python",
   "pygments_lexer": "ipython3",
   "version": "3.8.10"
  },
  "orig_nbformat": 4
 },
 "nbformat": 4,
 "nbformat_minor": 2
}
