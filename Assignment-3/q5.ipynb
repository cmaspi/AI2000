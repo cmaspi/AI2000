{
 "cells": [
  {
   "cell_type": "code",
   "execution_count": 9,
   "metadata": {},
   "outputs": [],
   "source": [
    "import pandas as pd\n",
    "from sklearn.ensemble import GradientBoostingClassifier\n",
    "import numpy as np\n",
    "\n",
    "def accuracy(label, predicted):\n",
    "    N= len(predicted)\n",
    "    crt = 0\n",
    "    for i in range(N):\n",
    "        if label[i] == predicted[i]:\n",
    "            crt=crt+1\n",
    "    if N==0:\n",
    "        raise ValueError(\"Input array size must be greater than 0\")\n",
    "    return crt/N\n",
    "\n",
    "def precision(label, predicted):\n",
    "    N = len(predicted)\n",
    "    tp = 0\n",
    "    fp = 0\n",
    "    for i in range(N):\n",
    "        if predicted[i]==1:\n",
    "            if label[i]==1:\n",
    "                tp=tp+1\n",
    "            else :\n",
    "                fp = fp +1\n",
    "    return tp/(tp+fp)\n",
    "def recall(label, predicted):\n",
    "    tp = 0\n",
    "    fn =0\n",
    "    N = len(predicted)\n",
    "    for i in range(N):\n",
    "        if label[i]==1:\n",
    "            if predicted[i]==1:\n",
    "                tp=tp+1\n",
    "            else :\n",
    "                fn = fn+1\n",
    "    return tp/(tp+fn)"
   ]
  },
  {
   "cell_type": "code",
   "execution_count": 3,
   "metadata": {},
   "outputs": [],
   "source": [
    "def load_data(filename):\n",
    "    df = pd.read_csv(filename)\n",
    "    n=len(df)\n",
    "    df=df.dropna(axis=1,thresh=int(0.4*n))\n",
    "    df.drop(columns=['id','member_id','url','desc','emp_title','purpose','title','zip_code','addr_state','earliest_cr_line'],inplace=True)\n",
    "    df.drop(columns=['inq_last_6mths','sub_grade','application_type','last_pymnt_d','issue_d','pymnt_plan'],inplace=True)\n",
    "    df['term'] = df['term'].str.replace(' months','').astype(float)\n",
    "    df['int_rate'] = df['int_rate'].str.replace('%','').astype(float)\n",
    "    df['revol_util'] = df['revol_util'].str.replace('%','').astype(float)\n",
    "    df['last_credit_pull_d']=df['last_credit_pull_d'].astype(str).str[:2]\n",
    "    df['last_credit_pull_d'] = df['last_credit_pull_d'].str.replace('-','')\n",
    "    df.grade=df.grade.astype('category').cat.codes\n",
    "    df.home_ownership=df.home_ownership.astype('category').cat.codes\n",
    "    df = df[df.loan_status != 'Current']\n",
    "    df.loan_status=df.loan_status.astype('category').cat.codes\n",
    "    df.verification_status=df.verification_status.astype('category').cat.codes\n",
    "    df.initial_list_status=df.initial_list_status.astype('category').cat.codes\n",
    "    df.last_credit_pull_d=df.last_credit_pull_d.astype('category').cat.codes\n",
    "    df.emp_length=df.emp_length.astype('category').cat.codes\n",
    "    df.dropna(inplace=True)\n",
    "    return df\n",
    "\n",
    "dfTrain = load_data('loan_train.csv')\n",
    "dfTest = load_data('loan_test.csv')"
   ]
  },
  {
   "cell_type": "code",
   "execution_count": 4,
   "metadata": {},
   "outputs": [
    {
     "name": "stdout",
     "output_type": "stream",
     "text": [
      "[0 1 1 ... 1 1 1]\n",
      "The accuracy of the model is: 0.9903398926654741\n",
      "hyperparameters: n_estimators: 50  max_features: auto  max_depth: 3\n",
      "The accuracy of the model is: 0.995134168157424\n",
      "hyperparameters: n_estimators: 100  max_features: auto  max_depth: 3\n",
      "The accuracy of the model is: 0.9962075134168158\n",
      "hyperparameters: n_estimators: 200  max_features: auto  max_depth: 3\n",
      "The accuracy of the model is: 0.9847584973166369\n",
      "hyperparameters: n_estimators: 50  max_features: sqrt  max_depth: 3\n",
      "The accuracy of the model is: 0.9926296958855099\n",
      "hyperparameters: n_estimators: 100  max_features: sqrt  max_depth: 3\n",
      "The accuracy of the model is: 0.995134168157424\n",
      "hyperparameters: n_estimators: 200  max_features: sqrt  max_depth: 3\n",
      "The accuracy of the model is: 0.984830053667263\n",
      "hyperparameters: n_estimators: 50  max_features: log2  max_depth: 3\n",
      "The accuracy of the model is: 0.9907692307692307\n",
      "hyperparameters: n_estimators: 100  max_features: log2  max_depth: 3\n",
      "The accuracy of the model is: 0.9948479427549195\n",
      "hyperparameters: n_estimators: 200  max_features: log2  max_depth: 3\n",
      "The accuracy of the model is: 0.9965652951699463\n",
      "hyperparameters: n_estimators: 50  max_features: auto  max_depth: 7\n",
      "The accuracy of the model is: 0.9967799642218247\n",
      "hyperparameters: n_estimators: 100  max_features: auto  max_depth: 7\n",
      "The accuracy of the model is: 0.9973524150268336\n",
      "hyperparameters: n_estimators: 200  max_features: auto  max_depth: 7\n",
      "The accuracy of the model is: 0.9942754919499106\n",
      "hyperparameters: n_estimators: 50  max_features: sqrt  max_depth: 7\n",
      "The accuracy of the model is: 0.9950626118067979\n",
      "hyperparameters: n_estimators: 100  max_features: sqrt  max_depth: 7\n",
      "The accuracy of the model is: 0.9964221824686941\n",
      "hyperparameters: n_estimators: 200  max_features: sqrt  max_depth: 7\n",
      "The accuracy of the model is: 0.9932021466905188\n",
      "hyperparameters: n_estimators: 50  max_features: log2  max_depth: 7\n",
      "The accuracy of the model is: 0.995778175313059\n",
      "hyperparameters: n_estimators: 100  max_features: log2  max_depth: 7\n",
      "The accuracy of the model is: 0.9959928443649374\n",
      "hyperparameters: n_estimators: 200  max_features: log2  max_depth: 7\n",
      "The accuracy of the model is: 0.995706618962433\n",
      "hyperparameters: n_estimators: 50  max_features: auto  max_depth: 10\n",
      "The accuracy of the model is: 0.9966368515205725\n",
      "hyperparameters: n_estimators: 100  max_features: auto  max_depth: 10\n",
      "The accuracy of the model is: 0.9972093023255814\n",
      "hyperparameters: n_estimators: 200  max_features: auto  max_depth: 10\n",
      "The accuracy of the model is: 0.994561717352415\n",
      "hyperparameters: n_estimators: 50  max_features: sqrt  max_depth: 10\n",
      "The accuracy of the model is: 0.9955635062611807\n",
      "hyperparameters: n_estimators: 100  max_features: sqrt  max_depth: 10\n",
      "The accuracy of the model is: 0.9960644007155635\n",
      "hyperparameters: n_estimators: 200  max_features: sqrt  max_depth: 10\n",
      "The accuracy of the model is: 0.9940608228980322\n",
      "hyperparameters: n_estimators: 50  max_features: log2  max_depth: 10\n",
      "The accuracy of the model is: 0.9956350626118068\n",
      "hyperparameters: n_estimators: 100  max_features: log2  max_depth: 10\n",
      "The accuracy of the model is: 0.9960644007155635\n",
      "hyperparameters: n_estimators: 200  max_features: log2  max_depth: 10\n"
     ]
    }
   ],
   "source": [
    "Xtrain=np.array(dfTrain.drop(columns=['loan_status']))\n",
    "Ytrain=np.array(dfTrain.loan_status)\n",
    "print(Ytrain)\n",
    "Xtest=np.array(dfTest.drop(columns=['loan_status']))\n",
    "Ytest=np.array([dfTest.loan_status]).flatten()\n",
    "max_depth= [3,7,10]\n",
    "maxfeatures=['auto','sqrt','log2']\n",
    "n_estimators=[50,100,200]\n",
    "for depth in max_depth:\n",
    "    for features in maxfeatures:\n",
    "        for trees in n_estimators:\n",
    "            clf = GradientBoostingClassifier(max_depth=depth,n_estimators=trees,max_features=features)\n",
    "            clf.fit(Xtrain,Ytrain)\n",
    "            predicted=clf.predict(Xtest)\n",
    "            n=len(predicted)\n",
    "            p=predicted.reshape([n,1]).flatten()\n",
    "            print(\"The accuracy of the model is:\",accuracy(Ytest,p))\n",
    "            print(\"hyperparameters: n_estimators:\",trees,\" max_features:\",features,\" max_depth:\",depth)\n",
    "\n"
   ]
  },
  {
   "cell_type": "markdown",
   "metadata": {},
   "source": [
    "### The maximum accuracy is achieved for the following\n",
    "hyperparameters: n_estimators: 100  max_features: auto  max_depth: 7 \\\n",
    "The accuracy of the model is: 0.9974239713774598"
   ]
  },
  {
   "cell_type": "code",
   "execution_count": 11,
   "metadata": {},
   "outputs": [
    {
     "name": "stdout",
     "output_type": "stream",
     "text": [
      "The accuracy of the inbuilt decision tree classifier is:  0.9916279069767442\n",
      "The precision of the inbuilt decision tree classifier is:  0.9951133204145253\n",
      "The recall of the inbuilt decision tree classifier is:  0.9950294860994103\n",
      "The accuracy of the gradient boosting model is: 0.9967084078711985\n",
      "The precision of the gradient boosting model is: 0.9964729593550554\n",
      "The recall of the gradient boosting model is: 0.9996630160067397\n"
     ]
    }
   ],
   "source": [
    "from sklearn.tree import DecisionTreeClassifier\n",
    "\n",
    "clf2 = DecisionTreeClassifier()\n",
    "clf2.fit(Xtrain,Ytrain)\n",
    "predicted = clf2.predict(Xtest)\n",
    "print(\"The accuracy of the inbuilt decision tree classifier is: \",accuracy(Ytest,predicted))\n",
    "print(\"The precision of the inbuilt decision tree classifier is: \",precision(Ytest,predicted))\n",
    "print(\"The recall of the inbuilt decision tree classifier is: \",recall(Ytest,predicted))\n",
    "\n",
    "clf = GradientBoostingClassifier(max_depth=7, n_estimators=100, max_features = 'auto')\n",
    "clf.fit(Xtrain,Ytrain)\n",
    "predicted=clf.predict(Xtest)\n",
    "n=len(predicted)\n",
    "p=predicted.reshape([n,1]).flatten()\n",
    "print(\"The accuracy of the gradient boosting model is:\",accuracy(Ytest,p))\n",
    "print(\"The precision of the gradient boosting model is:\",precision(Ytest,p))\n",
    "print(\"The recall of the gradient boosting model is:\",recall(Ytest,p))\n",
    "\n"
   ]
  },
  {
   "cell_type": "code",
   "execution_count": null,
   "metadata": {},
   "outputs": [],
   "source": []
  }
 ],
 "metadata": {
  "interpreter": {
   "hash": "916dbcbb3f70747c44a77c7bcd40155683ae19c65e1c03b4aa3499c5328201f1"
  },
  "kernelspec": {
   "display_name": "Python 3.8.10 64-bit",
   "name": "python3"
  },
  "language_info": {
   "codemirror_mode": {
    "name": "ipython",
    "version": 3
   },
   "file_extension": ".py",
   "mimetype": "text/x-python",
   "name": "python",
   "nbconvert_exporter": "python",
   "pygments_lexer": "ipython3",
   "version": "3.8.10"
  },
  "orig_nbformat": 4
 },
 "nbformat": 4,
 "nbformat_minor": 2
}
