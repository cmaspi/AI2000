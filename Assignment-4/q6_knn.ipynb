{
 "cells": [
  {
   "cell_type": "code",
   "execution_count": 1,
   "metadata": {},
   "outputs": [],
   "source": [
    "import numpy as np\n",
    "import pandas as pd\n",
    "from sklearn.neighbors import KNeighborsRegressor\n",
    "from sklearn.ensemble import GradientBoostingRegressor"
   ]
  },
  {
   "cell_type": "code",
   "execution_count": 2,
   "metadata": {},
   "outputs": [],
   "source": [
    "def preprocess(filename) -> pd.DataFrame:\n",
    "    df = pd.read_csv(filename, nrows= 30000000 )\n",
    "    df.drop(columns=['key'],inplace=True)\n",
    "    df.drop(columns=['pickup_datetime'],inplace=True)\n",
    "    df.drop(columns=['passenger_count'],inplace=True)\n",
    "\n",
    "    # df.head()\n",
    "    df.dropna(inplace=True)\n",
    "\n",
    "    # df.drop(df[df['passenger_count']>=7].index, inplace=True)\n",
    "    # df.drop(df[df['passenger_count']<=0].index, inplace=True)\n",
    "    df.drop(df[df['fare_amount']<=0.1].index, inplace=True)\n",
    "    df.drop(df[df['fare_amount']>=500].index, inplace=True)\n",
    "    df.drop(df[df['pickup_latitude']<=39].index, inplace=True)\n",
    "    df.drop(df[df['pickup_latitude']>=41].index, inplace=True)\n",
    "    df.drop(df[df['pickup_longitude']>=-70].index, inplace=True)\n",
    "    df.drop(df[df['pickup_longitude']<=-80].index, inplace=True)\n",
    "    df.drop(df[df['dropoff_latitude']<=35].index, inplace=True)\n",
    "    df.drop(df[df['dropoff_latitude']>=45].index, inplace=True)\n",
    "    df.drop(df[df['dropoff_longitude']>=-73].index, inplace=True)\n",
    "    df.drop(df[df['dropoff_longitude']<=-75].index, inplace=True)\n",
    "    df['pickup_longitude'] = df['pickup_longitude'].div(2)\n",
    "    df['dropoff_longitude'] = df['dropoff_longitude'].div(2)\n",
    "    return df\n",
    "\n",
    "df = preprocess('train.csv')\n",
    "train = df.to_numpy(dtype=float)\n",
    "np.random.shuffle(train)\n",
    "\n",
    "trainX = train[:,1:]\n",
    "trainY = train[:,0]"
   ]
  },
  {
   "cell_type": "code",
   "execution_count": 3,
   "metadata": {},
   "outputs": [
    {
     "name": "stdout",
     "output_type": "stream",
     "text": [
      "[[-36.98666     40.76380539 -36.99071503  40.74383545]\n",
      " [-36.99343109  40.71938324 -36.99944305  40.73920059]\n",
      " [-36.991262    40.75126    -36.989827    40.746139  ]\n",
      " ...\n",
      " [-36.99580002  40.72660828 -36.89487076  40.6470108 ]\n",
      " [-36.99278641  40.73543167 -36.96958923  40.80173111]\n",
      " [-36.99401093  40.75407028 -37.00014114  40.75922012]]\n",
      "['2015-01-27 13:08:24.0000002' '2015-01-27 13:08:24.0000003'\n",
      " '2011-10-08 11:53:44.0000002' ... '2015-04-19 20:44:15.0000001'\n",
      " '2015-01-31 01:05:19.0000005' '2015-01-18 14:06:23.0000006']\n"
     ]
    },
    {
     "data": {
      "text/html": [
       "<div>\n",
       "<style scoped>\n",
       "    .dataframe tbody tr th:only-of-type {\n",
       "        vertical-align: middle;\n",
       "    }\n",
       "\n",
       "    .dataframe tbody tr th {\n",
       "        vertical-align: top;\n",
       "    }\n",
       "\n",
       "    .dataframe thead th {\n",
       "        text-align: right;\n",
       "    }\n",
       "</style>\n",
       "<table border=\"1\" class=\"dataframe\">\n",
       "  <thead>\n",
       "    <tr style=\"text-align: right;\">\n",
       "      <th></th>\n",
       "      <th>pickup_longitude</th>\n",
       "      <th>pickup_latitude</th>\n",
       "      <th>dropoff_longitude</th>\n",
       "      <th>dropoff_latitude</th>\n",
       "    </tr>\n",
       "  </thead>\n",
       "  <tbody>\n",
       "    <tr>\n",
       "      <th>count</th>\n",
       "      <td>9914.000000</td>\n",
       "      <td>9914.000000</td>\n",
       "      <td>9914.000000</td>\n",
       "      <td>9914.000000</td>\n",
       "    </tr>\n",
       "    <tr>\n",
       "      <th>mean</th>\n",
       "      <td>-36.987361</td>\n",
       "      <td>40.751041</td>\n",
       "      <td>-36.986828</td>\n",
       "      <td>40.751743</td>\n",
       "    </tr>\n",
       "    <tr>\n",
       "      <th>std</th>\n",
       "      <td>0.021387</td>\n",
       "      <td>0.033541</td>\n",
       "      <td>0.019536</td>\n",
       "      <td>0.035435</td>\n",
       "    </tr>\n",
       "    <tr>\n",
       "      <th>min</th>\n",
       "      <td>-37.126097</td>\n",
       "      <td>40.573143</td>\n",
       "      <td>-37.131621</td>\n",
       "      <td>40.568973</td>\n",
       "    </tr>\n",
       "    <tr>\n",
       "      <th>25%</th>\n",
       "      <td>-36.996250</td>\n",
       "      <td>40.736125</td>\n",
       "      <td>-36.995623</td>\n",
       "      <td>40.735254</td>\n",
       "    </tr>\n",
       "    <tr>\n",
       "      <th>50%</th>\n",
       "      <td>-36.991163</td>\n",
       "      <td>40.753051</td>\n",
       "      <td>-36.990008</td>\n",
       "      <td>40.754065</td>\n",
       "    </tr>\n",
       "    <tr>\n",
       "      <th>75%</th>\n",
       "      <td>-36.984007</td>\n",
       "      <td>40.767113</td>\n",
       "      <td>-36.982030</td>\n",
       "      <td>40.768757</td>\n",
       "    </tr>\n",
       "    <tr>\n",
       "      <th>max</th>\n",
       "      <td>-36.493266</td>\n",
       "      <td>41.709555</td>\n",
       "      <td>-36.495481</td>\n",
       "      <td>41.696683</td>\n",
       "    </tr>\n",
       "  </tbody>\n",
       "</table>\n",
       "</div>"
      ],
      "text/plain": [
       "       pickup_longitude  pickup_latitude  dropoff_longitude  dropoff_latitude\n",
       "count       9914.000000      9914.000000        9914.000000       9914.000000\n",
       "mean         -36.987361        40.751041         -36.986828         40.751743\n",
       "std            0.021387         0.033541           0.019536          0.035435\n",
       "min          -37.126097        40.573143         -37.131621         40.568973\n",
       "25%          -36.996250        40.736125         -36.995623         40.735254\n",
       "50%          -36.991163        40.753051         -36.990008         40.754065\n",
       "75%          -36.984007        40.767113         -36.982030         40.768757\n",
       "max          -36.493266        41.709555         -36.495481         41.696683"
      ]
     },
     "execution_count": 3,
     "metadata": {},
     "output_type": "execute_result"
    }
   ],
   "source": [
    "df = pd.read_csv('test.csv')\n",
    "df.drop(columns=['pickup_datetime'],inplace=True)\n",
    "submit = df['key'].to_numpy()\n",
    "df.drop(columns=['key'],inplace=True)\n",
    "df.drop(columns=['passenger_count'],inplace=True)\n",
    "df['pickup_longitude'] = df['pickup_longitude'].div(2)\n",
    "df['dropoff_longitude'] = df['dropoff_longitude'].div(2)\n",
    "test = df.to_numpy(dtype=float)\n",
    "print(test)\n",
    "print(submit)\n",
    "df.describe()"
   ]
  },
  {
   "cell_type": "code",
   "execution_count": 4,
   "metadata": {},
   "outputs": [
    {
     "name": "stdout",
     "output_type": "stream",
     "text": [
      "[ 9.78571429  8.95714286  4.47142857 ... 51.69571429 15.82857143\n",
      "  7.8       ]\n"
     ]
    }
   ],
   "source": [
    "clf = KNeighborsRegressor(n_neighbors = 7)\n",
    "clf.fit(trainX,trainY)\n",
    "predict = clf.predict(test)\n",
    "print(predict)"
   ]
  },
  {
   "cell_type": "code",
   "execution_count": 5,
   "metadata": {},
   "outputs": [
    {
     "name": "stdout",
     "output_type": "stream",
     "text": [
      "[['2015-01-27 13:08:24.0000002' 9.785714285714286]\n",
      " ['2015-01-27 13:08:24.0000003' 8.957142857142857]\n",
      " ['2011-10-08 11:53:44.0000002' 4.471428571428571]\n",
      " ...\n",
      " ['2015-04-19 20:44:15.0000001' 51.69571428571429]\n",
      " ['2015-01-31 01:05:19.0000005' 15.828571428571431]\n",
      " ['2015-01-18 14:06:23.0000006' 7.8]]\n"
     ]
    }
   ],
   "source": [
    "output = np.c_[submit.T,predict.T]\n",
    "print(output)\n"
   ]
  },
  {
   "cell_type": "code",
   "execution_count": 6,
   "metadata": {},
   "outputs": [],
   "source": [
    "df = pd.DataFrame(output)\n",
    "df.to_csv('output.csv', index=None, header=['key','fare_amount'])"
   ]
  },
  {
   "cell_type": "code",
   "execution_count": 7,
   "metadata": {},
   "outputs": [],
   "source": [
    "# clf = GradientBoostingRegressor(n_estimators=1000)\n",
    "# clf.fit(trainX,trainY)\n",
    "# predict = clf.predict(test)\n",
    "# output = np.c_[submit.T,predict.T]\n",
    "# print(output)"
   ]
  },
  {
   "cell_type": "code",
   "execution_count": null,
   "metadata": {},
   "outputs": [],
   "source": [
    "# df = pd.DataFrame(output)\n",
    "# df.to_csv('submission.csv', index=None, header=['key','fare_amount'])"
   ]
  },
  {
   "cell_type": "code",
   "execution_count": null,
   "metadata": {},
   "outputs": [],
   "source": []
  }
 ],
 "metadata": {
  "interpreter": {
   "hash": "916dbcbb3f70747c44a77c7bcd40155683ae19c65e1c03b4aa3499c5328201f1"
  },
  "kernelspec": {
   "display_name": "Python 3.9.7 64-bit",
   "language": "python",
   "name": "python3"
  },
  "language_info": {
   "codemirror_mode": {
    "name": "ipython",
    "version": 3
   },
   "file_extension": ".py",
   "mimetype": "text/x-python",
   "name": "python",
   "nbconvert_exporter": "python",
   "pygments_lexer": "ipython3",
   "version": "3.9.7"
  },
  "orig_nbformat": 4
 },
 "nbformat": 4,
 "nbformat_minor": 2
}
