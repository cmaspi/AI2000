{
 "cells": [
  {
   "cell_type": "code",
   "execution_count": 114,
   "metadata": {},
   "outputs": [],
   "source": [
    "import numpy as np\n",
    "import matplotlib.pyplot as plt\n"
   ]
  },
  {
   "cell_type": "code",
   "execution_count": 115,
   "metadata": {},
   "outputs": [
    {
     "name": "stdout",
     "output_type": "stream",
     "text": [
      "[0.73105858 0.88079708]\n"
     ]
    }
   ],
   "source": [
    "def sigmoid(z):\n",
    "    return 1 / (1 + np.exp(-z))\n",
    "print(sigmoid(np.array([1,2])))"
   ]
  },
  {
   "cell_type": "code",
   "execution_count": 116,
   "metadata": {},
   "outputs": [],
   "source": [
    "train = np.array([[ 0.346 , 0.780 ] , [ 0.303 , 0.439 ] , [0.358 , 0.729 ] , [0.602 , 0.863] , [0.790 , 0.753 ] , [0.611 , 0.965] ], dtype = float)\n",
    "\n",
    "train_label = np.array([0,0,0,1,1,1], dtype=float)\n",
    "\n",
    "test = np.array([[0.959,0.382],[0.75,0.306],[0.395,0.760],[0.823,0.764],[0.761,0.874],[0.844,0.435]], dtype = float)\n",
    "\n",
    "test_label = np.array([0,0,0,1,1,1], dtype = float)\n"
   ]
  },
  {
   "cell_type": "code",
   "execution_count": 117,
   "metadata": {},
   "outputs": [
    {
     "name": "stdout",
     "output_type": "stream",
     "text": [
      "[[1.    0.346 0.78 ]\n",
      " [1.    0.303 0.439]\n",
      " [1.    0.358 0.729]\n",
      " [1.    0.602 0.863]\n",
      " [1.    0.79  0.753]\n",
      " [1.    0.611 0.965]]\n"
     ]
    }
   ],
   "source": [
    "X = np.c_[np.ones(6) , train]\n",
    "X_test = np.c_[np.ones(6), test]\n",
    "print(X)"
   ]
  },
  {
   "cell_type": "code",
   "execution_count": 118,
   "metadata": {},
   "outputs": [],
   "source": [
    "class logisticRegression:\n",
    "    def __init__(self) -> None:\n",
    "        self.W = None\n",
    "\n",
    "    def learn(self, X, y, epoch=5000 , w = None, learning_rate = 0.01) -> np.array:\n",
    "        n, m  = X.shape\n",
    "        if w is None:\n",
    "            w = np.zeros(m)\n",
    "        for _ in range(epoch):\n",
    "            dw = np.matmul(sigmoid(np.matmul(w,X.T)) - y , X)\n",
    "            dw = dw / n\n",
    "            w = w - learning_rate*dw\n",
    "        self.W = w\n",
    "    \n",
    "    def predict(self, X) -> np.array:\n",
    "         return np.round_(sigmoid(np.matmul(self.W,X.T)))\n",
    "\n",
    "    \n",
    "            \n",
    "            \n",
    "\n"
   ]
  },
  {
   "cell_type": "code",
   "execution_count": 119,
   "metadata": {},
   "outputs": [
    {
     "name": "stdout",
     "output_type": "stream",
     "text": [
      "for train data\n",
      "predicted labels:  [0. 0. 0. 1. 1. 1.]\n",
      "actual labels:  [0. 0. 0. 1. 1. 1.]\n",
      "for test data\n",
      "predicted labels:  [1. 1. 0. 1. 1. 1.]\n",
      "actual labels:  [0. 0. 0. 1. 1. 1.]\n",
      "Four labels correct\n"
     ]
    }
   ],
   "source": [
    "clf = logisticRegression()\n",
    "clf.learn(X, train_label)\n",
    "print(\"for train data\")\n",
    "print(\"predicted labels: \",clf.predict(X))\n",
    "print(\"actual labels: \",train_label)\n",
    "print(\"for test data\")\n",
    "print(\"predicted labels: \",clf.predict(X_test))\n",
    "print(\"actual labels: \",test_label)\n",
    "print(\"Four labels correct\")\n"
   ]
  },
  {
   "cell_type": "code",
   "execution_count": null,
   "metadata": {},
   "outputs": [],
   "source": []
  }
 ],
 "metadata": {
  "interpreter": {
   "hash": "916dbcbb3f70747c44a77c7bcd40155683ae19c65e1c03b4aa3499c5328201f1"
  },
  "kernelspec": {
   "display_name": "Python 3.9.7 64-bit",
   "language": "python",
   "name": "python3"
  },
  "language_info": {
   "codemirror_mode": {
    "name": "ipython",
    "version": 3
   },
   "file_extension": ".py",
   "mimetype": "text/x-python",
   "name": "python",
   "nbconvert_exporter": "python",
   "pygments_lexer": "ipython3",
   "version": "3.9.7"
  },
  "orig_nbformat": 4
 },
 "nbformat": 4,
 "nbformat_minor": 2
}
