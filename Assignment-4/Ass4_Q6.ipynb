{
 "cells": [
  {
   "cell_type": "code",
   "execution_count": 137,
   "id": "86991251",
   "metadata": {},
   "outputs": [],
   "source": [
    "import numpy as np\n",
    "import pandas as pd\n",
    "import csv\n",
    "from sklearn.linear_model import LinearRegression\n",
    "from sklearn.ensemble import GradientBoostingRegressor\n",
    "from sklearn.preprocessing import scale\n",
    "from sklearn.neighbors import KNeighborsRegressor"
   ]
  },
  {
   "cell_type": "code",
   "execution_count": 138,
   "id": "711aff9b",
   "metadata": {},
   "outputs": [
    {
     "data": {
      "text/html": [
       "<div>\n",
       "<style scoped>\n",
       "    .dataframe tbody tr th:only-of-type {\n",
       "        vertical-align: middle;\n",
       "    }\n",
       "\n",
       "    .dataframe tbody tr th {\n",
       "        vertical-align: top;\n",
       "    }\n",
       "\n",
       "    .dataframe thead th {\n",
       "        text-align: right;\n",
       "    }\n",
       "</style>\n",
       "<table border=\"1\" class=\"dataframe\">\n",
       "  <thead>\n",
       "    <tr style=\"text-align: right;\">\n",
       "      <th></th>\n",
       "      <th>key</th>\n",
       "      <th>fare_amount</th>\n",
       "      <th>pickup_datetime</th>\n",
       "      <th>pickup_longitude</th>\n",
       "      <th>pickup_latitude</th>\n",
       "      <th>dropoff_longitude</th>\n",
       "      <th>dropoff_latitude</th>\n",
       "      <th>passenger_count</th>\n",
       "    </tr>\n",
       "  </thead>\n",
       "  <tbody>\n",
       "    <tr>\n",
       "      <th>0</th>\n",
       "      <td>2009-06-15 17:26:21.0000001</td>\n",
       "      <td>4.5</td>\n",
       "      <td>2009-06-15 17:26:21 UTC</td>\n",
       "      <td>-73.844311</td>\n",
       "      <td>40.721319</td>\n",
       "      <td>-73.841610</td>\n",
       "      <td>40.712278</td>\n",
       "      <td>1</td>\n",
       "    </tr>\n",
       "    <tr>\n",
       "      <th>1</th>\n",
       "      <td>2010-01-05 16:52:16.0000002</td>\n",
       "      <td>16.9</td>\n",
       "      <td>2010-01-05 16:52:16 UTC</td>\n",
       "      <td>-74.016048</td>\n",
       "      <td>40.711303</td>\n",
       "      <td>-73.979268</td>\n",
       "      <td>40.782004</td>\n",
       "      <td>1</td>\n",
       "    </tr>\n",
       "    <tr>\n",
       "      <th>2</th>\n",
       "      <td>2011-08-18 00:35:00.00000049</td>\n",
       "      <td>5.7</td>\n",
       "      <td>2011-08-18 00:35:00 UTC</td>\n",
       "      <td>-73.982738</td>\n",
       "      <td>40.761270</td>\n",
       "      <td>-73.991242</td>\n",
       "      <td>40.750562</td>\n",
       "      <td>2</td>\n",
       "    </tr>\n",
       "    <tr>\n",
       "      <th>3</th>\n",
       "      <td>2012-04-21 04:30:42.0000001</td>\n",
       "      <td>7.7</td>\n",
       "      <td>2012-04-21 04:30:42 UTC</td>\n",
       "      <td>-73.987130</td>\n",
       "      <td>40.733143</td>\n",
       "      <td>-73.991567</td>\n",
       "      <td>40.758092</td>\n",
       "      <td>1</td>\n",
       "    </tr>\n",
       "    <tr>\n",
       "      <th>4</th>\n",
       "      <td>2010-03-09 07:51:00.000000135</td>\n",
       "      <td>5.3</td>\n",
       "      <td>2010-03-09 07:51:00 UTC</td>\n",
       "      <td>-73.968095</td>\n",
       "      <td>40.768008</td>\n",
       "      <td>-73.956655</td>\n",
       "      <td>40.783762</td>\n",
       "      <td>1</td>\n",
       "    </tr>\n",
       "  </tbody>\n",
       "</table>\n",
       "</div>"
      ],
      "text/plain": [
       "                             key  fare_amount          pickup_datetime  \\\n",
       "0    2009-06-15 17:26:21.0000001          4.5  2009-06-15 17:26:21 UTC   \n",
       "1    2010-01-05 16:52:16.0000002         16.9  2010-01-05 16:52:16 UTC   \n",
       "2   2011-08-18 00:35:00.00000049          5.7  2011-08-18 00:35:00 UTC   \n",
       "3    2012-04-21 04:30:42.0000001          7.7  2012-04-21 04:30:42 UTC   \n",
       "4  2010-03-09 07:51:00.000000135          5.3  2010-03-09 07:51:00 UTC   \n",
       "\n",
       "   pickup_longitude  pickup_latitude  dropoff_longitude  dropoff_latitude  \\\n",
       "0        -73.844311        40.721319         -73.841610         40.712278   \n",
       "1        -74.016048        40.711303         -73.979268         40.782004   \n",
       "2        -73.982738        40.761270         -73.991242         40.750562   \n",
       "3        -73.987130        40.733143         -73.991567         40.758092   \n",
       "4        -73.968095        40.768008         -73.956655         40.783762   \n",
       "\n",
       "   passenger_count  \n",
       "0                1  \n",
       "1                1  \n",
       "2                2  \n",
       "3                1  \n",
       "4                1  "
      ]
     },
     "execution_count": 138,
     "metadata": {},
     "output_type": "execute_result"
    }
   ],
   "source": [
    "tr_df=pd.read_csv('train.csv', nrows=1e5)\n",
    "tr_df.head()"
   ]
  },
  {
   "cell_type": "code",
   "execution_count": 139,
   "id": "341c76f6",
   "metadata": {},
   "outputs": [
    {
     "data": {
      "text/plain": [
       "key                  0\n",
       "fare_amount          0\n",
       "pickup_datetime      0\n",
       "pickup_longitude     0\n",
       "pickup_latitude      0\n",
       "dropoff_longitude    0\n",
       "dropoff_latitude     0\n",
       "passenger_count      0\n",
       "dtype: int64"
      ]
     },
     "execution_count": 139,
     "metadata": {},
     "output_type": "execute_result"
    }
   ],
   "source": [
    "tr_df.isnull().sum()"
   ]
  },
  {
   "cell_type": "code",
   "execution_count": 140,
   "id": "2ca147dd",
   "metadata": {},
   "outputs": [
    {
     "data": {
      "text/plain": [
       "key                  0\n",
       "fare_amount          0\n",
       "pickup_datetime      0\n",
       "pickup_longitude     0\n",
       "pickup_latitude      0\n",
       "dropoff_longitude    0\n",
       "dropoff_latitude     0\n",
       "passenger_count      0\n",
       "dtype: int64"
      ]
     },
     "execution_count": 140,
     "metadata": {},
     "output_type": "execute_result"
    }
   ],
   "source": [
    "tr_df=tr_df.dropna()\n",
    "tr_df.isnull().sum()"
   ]
  },
  {
   "cell_type": "code",
   "execution_count": 141,
   "id": "714224c1",
   "metadata": {},
   "outputs": [
    {
     "name": "stdout",
     "output_type": "stream",
     "text": [
      "<class 'pandas.core.frame.DataFrame'>\n",
      "Int64Index: 100000 entries, 0 to 99999\n",
      "Data columns (total 8 columns):\n",
      " #   Column             Non-Null Count   Dtype  \n",
      "---  ------             --------------   -----  \n",
      " 0   key                100000 non-null  object \n",
      " 1   fare_amount        100000 non-null  float64\n",
      " 2   pickup_datetime    100000 non-null  object \n",
      " 3   pickup_longitude   100000 non-null  float64\n",
      " 4   pickup_latitude    100000 non-null  float64\n",
      " 5   dropoff_longitude  100000 non-null  float64\n",
      " 6   dropoff_latitude   100000 non-null  float64\n",
      " 7   passenger_count    100000 non-null  int64  \n",
      "dtypes: float64(5), int64(1), object(2)\n",
      "memory usage: 6.9+ MB\n"
     ]
    }
   ],
   "source": [
    "tr_df.info()"
   ]
  },
  {
   "cell_type": "code",
   "execution_count": 142,
   "id": "df15cf8d",
   "metadata": {},
   "outputs": [],
   "source": [
    "# split_data = tr_df[\"pickup_datetime\"].str.split(\"-\")\n",
    "# data = split_data.to_list()\n",
    "# names = [\"year\",\"month\",\"date_time\"]\n",
    "# temp_df = pd.DataFrame(data, columns=names)\n",
    "# temp_df[\"date_time\"]=temp_df[\"date_time\"].str.replace(' UTC','')\n",
    "# temp_df.head()"
   ]
  },
  {
   "cell_type": "code",
   "execution_count": 143,
   "id": "0efb5a50",
   "metadata": {},
   "outputs": [],
   "source": [
    "# tr_df=tr_df.drop(columns=['pickup_datetime'])\n",
    "# tr_df=pd.concat([tr_df,temp_df],axis=1)\n",
    "# tr_df.head()"
   ]
  },
  {
   "cell_type": "code",
   "execution_count": 144,
   "id": "94c05152",
   "metadata": {},
   "outputs": [],
   "source": [
    "# tr_df=tr_df.dropna()\n",
    "# split_data = tr_df[\"date_time\"].str.split(\" \")\n",
    "# data = split_data.to_list()\n",
    "# names = [\"date\",\"time\"]\n",
    "# temp_df = pd.DataFrame(data, columns=names)\n",
    "# temp_df.head()"
   ]
  },
  {
   "cell_type": "code",
   "execution_count": 145,
   "id": "6fa7add0",
   "metadata": {},
   "outputs": [],
   "source": [
    "# tr_df=tr_df.drop(columns=['date_time'])\n",
    "# tr_df=pd.concat([tr_df,temp_df],axis=1)\n",
    "# tr_df.head()"
   ]
  },
  {
   "cell_type": "code",
   "execution_count": 146,
   "id": "563d5aae",
   "metadata": {},
   "outputs": [],
   "source": [
    "# tr_df=tr_df.dropna()\n",
    "# split_data = tr_df[\"time\"].str.split(\":\")\n",
    "# data = split_data.to_list()\n",
    "# names = [\"hours\",\"minutes\",\"seconds\"]\n",
    "# temp_df = pd.DataFrame(data, columns=names)\n",
    "# temp_df.head()"
   ]
  },
  {
   "cell_type": "code",
   "execution_count": 147,
   "id": "50402bae",
   "metadata": {},
   "outputs": [],
   "source": [
    "# tr_df=tr_df.drop(columns=['time'])\n",
    "# tr_df=pd.concat([tr_df,temp_df],axis=1)\n",
    "# tr_df.head()"
   ]
  },
  {
   "cell_type": "code",
   "execution_count": 148,
   "id": "009ff923",
   "metadata": {},
   "outputs": [],
   "source": [
    "# tr_df.isnull().sum()"
   ]
  },
  {
   "cell_type": "code",
   "execution_count": 149,
   "id": "ead94126",
   "metadata": {},
   "outputs": [],
   "source": [
    "# tr_df=tr_df.dropna()\n",
    "# tr_df.isnull().sum()"
   ]
  },
  {
   "cell_type": "code",
   "execution_count": 150,
   "id": "0e6941fd",
   "metadata": {},
   "outputs": [],
   "source": [
    "# tr_df.info()"
   ]
  },
  {
   "cell_type": "code",
   "execution_count": 151,
   "id": "e38c46dc",
   "metadata": {},
   "outputs": [],
   "source": [
    "# tr_df=tr_df.astype({'passenger_count':'int64','year':'int64','month':'int64','date':'int64','hours':'int64','minutes':'int64','seconds':'int64'})\n",
    "# tr_df.info()"
   ]
  },
  {
   "cell_type": "code",
   "execution_count": 152,
   "id": "82de2e09",
   "metadata": {},
   "outputs": [
    {
     "data": {
      "text/html": [
       "<div>\n",
       "<style scoped>\n",
       "    .dataframe tbody tr th:only-of-type {\n",
       "        vertical-align: middle;\n",
       "    }\n",
       "\n",
       "    .dataframe tbody tr th {\n",
       "        vertical-align: top;\n",
       "    }\n",
       "\n",
       "    .dataframe thead th {\n",
       "        text-align: right;\n",
       "    }\n",
       "</style>\n",
       "<table border=\"1\" class=\"dataframe\">\n",
       "  <thead>\n",
       "    <tr style=\"text-align: right;\">\n",
       "      <th></th>\n",
       "      <th>pickup_longitude</th>\n",
       "      <th>pickup_latitude</th>\n",
       "      <th>dropoff_longitude</th>\n",
       "      <th>dropoff_latitude</th>\n",
       "      <th>passenger_count</th>\n",
       "    </tr>\n",
       "  </thead>\n",
       "  <tbody>\n",
       "    <tr>\n",
       "      <th>0</th>\n",
       "      <td>126.205722</td>\n",
       "      <td>129.598828</td>\n",
       "      <td>128.984825</td>\n",
       "      <td>127.663713</td>\n",
       "      <td>1</td>\n",
       "    </tr>\n",
       "    <tr>\n",
       "      <th>1</th>\n",
       "      <td>142.265094</td>\n",
       "      <td>127.990001</td>\n",
       "      <td>142.131001</td>\n",
       "      <td>138.885596</td>\n",
       "      <td>1</td>\n",
       "    </tr>\n",
       "    <tr>\n",
       "      <th>2</th>\n",
       "      <td>139.150228</td>\n",
       "      <td>136.015985</td>\n",
       "      <td>143.274504</td>\n",
       "      <td>133.825239</td>\n",
       "      <td>2</td>\n",
       "    </tr>\n",
       "    <tr>\n",
       "      <th>3</th>\n",
       "      <td>139.560931</td>\n",
       "      <td>131.498066</td>\n",
       "      <td>143.305541</td>\n",
       "      <td>135.037136</td>\n",
       "      <td>1</td>\n",
       "    </tr>\n",
       "    <tr>\n",
       "      <th>4</th>\n",
       "      <td>137.780941</td>\n",
       "      <td>137.098281</td>\n",
       "      <td>139.971486</td>\n",
       "      <td>139.168533</td>\n",
       "      <td>1</td>\n",
       "    </tr>\n",
       "  </tbody>\n",
       "</table>\n",
       "</div>"
      ],
      "text/plain": [
       "   pickup_longitude  pickup_latitude  dropoff_longitude  dropoff_latitude  \\\n",
       "0        126.205722       129.598828         128.984825        127.663713   \n",
       "1        142.265094       127.990001         142.131001        138.885596   \n",
       "2        139.150228       136.015985         143.274504        133.825239   \n",
       "3        139.560931       131.498066         143.305541        135.037136   \n",
       "4        137.780941       137.098281         139.971486        139.168533   \n",
       "\n",
       "   passenger_count  \n",
       "0                1  \n",
       "1                1  \n",
       "2                2  \n",
       "3                1  \n",
       "4                1  "
      ]
     },
     "execution_count": 152,
     "metadata": {},
     "output_type": "execute_result"
    }
   ],
   "source": [
    "tr_df['pickup_longitude']=-1000*scale(tr_df['pickup_longitude'])\n",
    "tr_df['pickup_latitude']=1000*scale(tr_df['pickup_latitude'])\n",
    "tr_df['dropoff_longitude']=-1000*scale(tr_df['dropoff_longitude'])\n",
    "tr_df['dropoff_latitude']=1000*scale(tr_df['dropoff_latitude'])\n",
    "tr_df=tr_df[tr_df['fare_amount']>0]\n",
    "train_labels=np.array(tr_df['fare_amount'])\n",
    "tr_df=tr_df.drop(columns=['key','fare_amount','pickup_datetime'])\n",
    "train_features=np.array(tr_df)\n",
    "tr_df.head()"
   ]
  },
  {
   "cell_type": "code",
   "execution_count": 153,
   "id": "7f085b69",
   "metadata": {},
   "outputs": [
    {
     "name": "stdout",
     "output_type": "stream",
     "text": [
      "<class 'pandas.core.frame.DataFrame'>\n",
      "RangeIndex: 9914 entries, 0 to 9913\n",
      "Data columns (total 7 columns):\n",
      " #   Column             Non-Null Count  Dtype  \n",
      "---  ------             --------------  -----  \n",
      " 0   key                9914 non-null   object \n",
      " 1   pickup_datetime    9914 non-null   object \n",
      " 2   pickup_longitude   9914 non-null   float64\n",
      " 3   pickup_latitude    9914 non-null   float64\n",
      " 4   dropoff_longitude  9914 non-null   float64\n",
      " 5   dropoff_latitude   9914 non-null   float64\n",
      " 6   passenger_count    9914 non-null   int64  \n",
      "dtypes: float64(4), int64(1), object(2)\n",
      "memory usage: 542.3+ KB\n"
     ]
    }
   ],
   "source": [
    "te_df=pd.read_csv('test.csv')\n",
    "submsn1_df=te_df\n",
    "submsn2_df=te_df\n",
    "te_df.info()"
   ]
  },
  {
   "cell_type": "code",
   "execution_count": 154,
   "id": "7b4ac131",
   "metadata": {},
   "outputs": [
    {
     "data": {
      "text/plain": [
       "key                  0\n",
       "pickup_datetime      0\n",
       "pickup_longitude     0\n",
       "pickup_latitude      0\n",
       "dropoff_longitude    0\n",
       "dropoff_latitude     0\n",
       "passenger_count      0\n",
       "dtype: int64"
      ]
     },
     "execution_count": 154,
     "metadata": {},
     "output_type": "execute_result"
    }
   ],
   "source": [
    "te_df.isnull().sum()"
   ]
  },
  {
   "cell_type": "code",
   "execution_count": 155,
   "id": "45b7f1ca",
   "metadata": {},
   "outputs": [
    {
     "data": {
      "text/html": [
       "<div>\n",
       "<style scoped>\n",
       "    .dataframe tbody tr th:only-of-type {\n",
       "        vertical-align: middle;\n",
       "    }\n",
       "\n",
       "    .dataframe tbody tr th {\n",
       "        vertical-align: top;\n",
       "    }\n",
       "\n",
       "    .dataframe thead th {\n",
       "        text-align: right;\n",
       "    }\n",
       "</style>\n",
       "<table border=\"1\" class=\"dataframe\">\n",
       "  <thead>\n",
       "    <tr style=\"text-align: right;\">\n",
       "      <th></th>\n",
       "      <th>pickup_longitude</th>\n",
       "      <th>pickup_latitude</th>\n",
       "      <th>dropoff_longitude</th>\n",
       "      <th>dropoff_latitude</th>\n",
       "      <th>passenger_count</th>\n",
       "    </tr>\n",
       "  </thead>\n",
       "  <tbody>\n",
       "    <tr>\n",
       "      <th>0</th>\n",
       "      <td>-73.973320</td>\n",
       "      <td>40.763805</td>\n",
       "      <td>-73.981430</td>\n",
       "      <td>40.743835</td>\n",
       "      <td>1</td>\n",
       "    </tr>\n",
       "    <tr>\n",
       "      <th>1</th>\n",
       "      <td>-73.986862</td>\n",
       "      <td>40.719383</td>\n",
       "      <td>-73.998886</td>\n",
       "      <td>40.739201</td>\n",
       "      <td>1</td>\n",
       "    </tr>\n",
       "    <tr>\n",
       "      <th>2</th>\n",
       "      <td>-73.982524</td>\n",
       "      <td>40.751260</td>\n",
       "      <td>-73.979654</td>\n",
       "      <td>40.746139</td>\n",
       "      <td>1</td>\n",
       "    </tr>\n",
       "    <tr>\n",
       "      <th>3</th>\n",
       "      <td>-73.981160</td>\n",
       "      <td>40.767807</td>\n",
       "      <td>-73.990448</td>\n",
       "      <td>40.751635</td>\n",
       "      <td>1</td>\n",
       "    </tr>\n",
       "    <tr>\n",
       "      <th>4</th>\n",
       "      <td>-73.966046</td>\n",
       "      <td>40.789775</td>\n",
       "      <td>-73.988565</td>\n",
       "      <td>40.744427</td>\n",
       "      <td>1</td>\n",
       "    </tr>\n",
       "  </tbody>\n",
       "</table>\n",
       "</div>"
      ],
      "text/plain": [
       "   pickup_longitude  pickup_latitude  dropoff_longitude  dropoff_latitude  \\\n",
       "0        -73.973320        40.763805         -73.981430         40.743835   \n",
       "1        -73.986862        40.719383         -73.998886         40.739201   \n",
       "2        -73.982524        40.751260         -73.979654         40.746139   \n",
       "3        -73.981160        40.767807         -73.990448         40.751635   \n",
       "4        -73.966046        40.789775         -73.988565         40.744427   \n",
       "\n",
       "   passenger_count  \n",
       "0                1  \n",
       "1                1  \n",
       "2                1  \n",
       "3                1  \n",
       "4                1  "
      ]
     },
     "execution_count": 155,
     "metadata": {},
     "output_type": "execute_result"
    }
   ],
   "source": [
    "te_df=te_df.drop(columns=['key','pickup_datetime'])\n",
    "te_df.head()"
   ]
  },
  {
   "cell_type": "code",
   "execution_count": 156,
   "id": "76dd51a9",
   "metadata": {},
   "outputs": [],
   "source": [
    "te_df['pickup_longitude']=1000*scale(te_df['pickup_longitude'])\n",
    "te_df['pickup_latitude']=1000*scale(te_df['pickup_latitude'])\n",
    "te_df['dropoff_longitude']=-1000*scale(te_df['dropoff_longitude'])\n",
    "te_df['dropoff_latitude']=1000*scale(te_df['dropoff_latitude'])"
   ]
  },
  {
   "cell_type": "code",
   "execution_count": 157,
   "id": "f476e42e",
   "metadata": {},
   "outputs": [],
   "source": [
    "# split_data = te_df[\"pickup_datetime\"].str.split(\"-\")\n",
    "# data = split_data.to_list()\n",
    "# names = [\"year\",\"month\",\"date_time\"]\n",
    "# temp_df = pd.DataFrame(data, columns=names)\n",
    "# temp_df[\"date_time\"]=temp_df[\"date_time\"].str.replace(' UTC','')\n",
    "# temp_df.head()"
   ]
  },
  {
   "cell_type": "code",
   "execution_count": 158,
   "id": "e31eace7",
   "metadata": {},
   "outputs": [],
   "source": [
    "# te_df=te_df.drop(columns=['pickup_datetime'])\n",
    "# te_df=pd.concat([te_df,temp_df],axis=1)\n",
    "# te_df.head()"
   ]
  },
  {
   "cell_type": "code",
   "execution_count": 159,
   "id": "0915668d",
   "metadata": {},
   "outputs": [],
   "source": [
    "# te_df=te_df.dropna()\n",
    "# split_data = te_df[\"date_time\"].str.split(\" \")\n",
    "# data = split_data.to_list()\n",
    "# names = [\"date\",\"time\"]\n",
    "# temp_df = pd.DataFrame(data, columns=names)\n",
    "# temp_df.head()"
   ]
  },
  {
   "cell_type": "code",
   "execution_count": 160,
   "id": "a602e8ce",
   "metadata": {},
   "outputs": [],
   "source": [
    "# te_df=te_df.drop(columns=['date_time'])\n",
    "# te_df=pd.concat([te_df,temp_df],axis=1)\n",
    "# te_df.head()"
   ]
  },
  {
   "cell_type": "code",
   "execution_count": 161,
   "id": "15a9b8e9",
   "metadata": {},
   "outputs": [],
   "source": [
    "# te_df=te_df.dropna()\n",
    "# split_data = te_df[\"time\"].str.split(\":\")\n",
    "# data = split_data.to_list()\n",
    "# names = [\"hours\",\"minutes\",\"seconds\"]\n",
    "# temp_df = pd.DataFrame(data, columns=names)\n",
    "# temp_df.head()"
   ]
  },
  {
   "cell_type": "code",
   "execution_count": 162,
   "id": "c13922ea",
   "metadata": {},
   "outputs": [],
   "source": [
    "# te_df=te_df.drop(columns=['time'])\n",
    "# te_df=pd.concat([te_df,temp_df],axis=1)\n",
    "# te_df.head()"
   ]
  },
  {
   "cell_type": "code",
   "execution_count": 163,
   "id": "b7e84acb",
   "metadata": {},
   "outputs": [
    {
     "name": "stdout",
     "output_type": "stream",
     "text": [
      "<class 'pandas.core.frame.DataFrame'>\n",
      "RangeIndex: 9914 entries, 0 to 9913\n",
      "Data columns (total 5 columns):\n",
      " #   Column             Non-Null Count  Dtype  \n",
      "---  ------             --------------  -----  \n",
      " 0   pickup_longitude   9914 non-null   float64\n",
      " 1   pickup_latitude    9914 non-null   float64\n",
      " 2   dropoff_longitude  9914 non-null   float64\n",
      " 3   dropoff_latitude   9914 non-null   float64\n",
      " 4   passenger_count    9914 non-null   int64  \n",
      "dtypes: float64(4), int64(1)\n",
      "memory usage: 387.4 KB\n"
     ]
    }
   ],
   "source": [
    "te_df.info()"
   ]
  },
  {
   "cell_type": "code",
   "execution_count": 164,
   "id": "e07c3e78",
   "metadata": {},
   "outputs": [],
   "source": [
    "# te_df=te_df.astype({'passenger_count':'int64','year':'int64','month':'int64','date':'int64','hours':'int64','minutes':'int64','seconds':'int64'})\n",
    "# te_df.info()"
   ]
  },
  {
   "cell_type": "code",
   "execution_count": 165,
   "id": "4b13f1b1",
   "metadata": {},
   "outputs": [],
   "source": [
    "test_features=np.array(te_df)"
   ]
  },
  {
   "cell_type": "code",
   "execution_count": 166,
   "id": "c3cef4b1",
   "metadata": {},
   "outputs": [
    {
     "data": {
      "text/plain": [
       "LinearRegression()"
      ]
     },
     "execution_count": 166,
     "metadata": {},
     "output_type": "execute_result"
    }
   ],
   "source": [
    "lin_reg=LinearRegression()\n",
    "lin_reg.fit(train_features,train_labels)\n",
    "# lin_reg.score(train_features,train_labels)"
   ]
  },
  {
   "cell_type": "code",
   "execution_count": 167,
   "id": "564e0a93",
   "metadata": {},
   "outputs": [
    {
     "data": {
      "text/plain": [
       "GradientBoostingRegressor(max_features='sqrt', n_estimators=1000)"
      ]
     },
     "execution_count": 167,
     "metadata": {},
     "output_type": "execute_result"
    }
   ],
   "source": [
    "grb=GradientBoostingRegressor(n_estimators=1000,max_features='sqrt')\n",
    "grb.fit(train_features,train_labels)\n",
    "# grb.score(train_features,train_labels)"
   ]
  },
  {
   "cell_type": "code",
   "execution_count": 168,
   "id": "3a908614",
   "metadata": {},
   "outputs": [
    {
     "data": {
      "text/plain": [
       "KNeighborsRegressor()"
      ]
     },
     "execution_count": 168,
     "metadata": {},
     "output_type": "execute_result"
    }
   ],
   "source": [
    "knn=KNeighborsRegressor()\n",
    "knn.fit(train_features,train_labels)\n",
    "# knn.score(train_features,train_labels)"
   ]
  },
  {
   "cell_type": "code",
   "execution_count": 169,
   "id": "579df3e3",
   "metadata": {},
   "outputs": [
    {
     "name": "stdout",
     "output_type": "stream",
     "text": [
      "<class 'pandas.core.frame.DataFrame'>\n",
      "RangeIndex: 9914 entries, 0 to 9913\n",
      "Data columns (total 2 columns):\n",
      " #   Column       Non-Null Count  Dtype  \n",
      "---  ------       --------------  -----  \n",
      " 0   key          9914 non-null   object \n",
      " 1   fare_amount  9914 non-null   float64\n",
      "dtypes: float64(1), object(1)\n",
      "memory usage: 155.0+ KB\n"
     ]
    }
   ],
   "source": [
    "pred=grb.predict(test_features)\n",
    "sub1_df=pd.DataFrame(pred,columns=['fare_amount'])\n",
    "submsn1_df=pd.concat([submsn1_df,sub1_df],axis=1)\n",
    "# sub_df.info()\n",
    "# submsn_df.info()\n",
    "submsn1_df=submsn1_df.drop(['pickup_longitude','pickup_latitude','dropoff_longitude','dropoff_latitude','passenger_count','pickup_datetime'],axis=1)\n",
    "submsn1_df.info()"
   ]
  },
  {
   "cell_type": "code",
   "execution_count": 170,
   "id": "d2e62f1b",
   "metadata": {},
   "outputs": [],
   "source": [
    "submsn1_df.to_csv(r'submsn_1.csv',index=False)"
   ]
  },
  {
   "cell_type": "code",
   "execution_count": 171,
   "id": "d161d795",
   "metadata": {},
   "outputs": [
    {
     "name": "stdout",
     "output_type": "stream",
     "text": [
      "<class 'pandas.core.frame.DataFrame'>\n",
      "RangeIndex: 9914 entries, 0 to 9913\n",
      "Data columns (total 2 columns):\n",
      " #   Column       Non-Null Count  Dtype  \n",
      "---  ------       --------------  -----  \n",
      " 0   key          9914 non-null   object \n",
      " 1   fare_amount  9914 non-null   float64\n",
      "dtypes: float64(1), object(1)\n",
      "memory usage: 155.0+ KB\n"
     ]
    }
   ],
   "source": [
    "pred=knn.predict(test_features)\n",
    "sub2_df=pd.DataFrame(pred,columns=['fare_amount'])\n",
    "submsn2_df=pd.concat([submsn2_df,sub2_df],axis=1)\n",
    "# sub_df.info()\n",
    "# submsn_df.info()\n",
    "submsn2_df=submsn2_df.drop(['pickup_longitude','pickup_latitude','dropoff_longitude','dropoff_latitude','passenger_count','pickup_datetime'],axis=1)\n",
    "submsn2_df.info()"
   ]
  },
  {
   "cell_type": "code",
   "execution_count": 172,
   "id": "d1570e17",
   "metadata": {},
   "outputs": [],
   "source": [
    "submsn2_df.to_csv(r'submsn_2.csv',index=False)"
   ]
  },
  {
   "cell_type": "code",
   "execution_count": null,
   "id": "a22e85fb",
   "metadata": {},
   "outputs": [],
   "source": []
  },
  {
   "cell_type": "code",
   "execution_count": null,
   "id": "02d4f68e",
   "metadata": {},
   "outputs": [],
   "source": []
  },
  {
   "cell_type": "code",
   "execution_count": null,
   "id": "925750e3",
   "metadata": {},
   "outputs": [],
   "source": []
  },
  {
   "cell_type": "code",
   "execution_count": null,
   "id": "ff08bba9",
   "metadata": {},
   "outputs": [],
   "source": []
  },
  {
   "cell_type": "code",
   "execution_count": null,
   "id": "869dffd7",
   "metadata": {},
   "outputs": [],
   "source": []
  },
  {
   "cell_type": "code",
   "execution_count": null,
   "id": "5537f184",
   "metadata": {},
   "outputs": [],
   "source": []
  },
  {
   "cell_type": "code",
   "execution_count": null,
   "id": "3abe4ed3",
   "metadata": {},
   "outputs": [],
   "source": []
  },
  {
   "cell_type": "code",
   "execution_count": null,
   "id": "c67fc578",
   "metadata": {},
   "outputs": [],
   "source": []
  },
  {
   "cell_type": "code",
   "execution_count": null,
   "id": "e90bb048",
   "metadata": {},
   "outputs": [],
   "source": []
  },
  {
   "cell_type": "code",
   "execution_count": null,
   "id": "dd0ce5f6",
   "metadata": {},
   "outputs": [],
   "source": []
  },
  {
   "cell_type": "code",
   "execution_count": null,
   "id": "c850bed3",
   "metadata": {},
   "outputs": [],
   "source": []
  },
  {
   "cell_type": "code",
   "execution_count": null,
   "id": "f28c94e9",
   "metadata": {},
   "outputs": [],
   "source": []
  },
  {
   "cell_type": "code",
   "execution_count": null,
   "id": "fd7a92b7",
   "metadata": {},
   "outputs": [],
   "source": []
  },
  {
   "cell_type": "code",
   "execution_count": null,
   "id": "e5e0a7fb",
   "metadata": {},
   "outputs": [],
   "source": []
  },
  {
   "cell_type": "code",
   "execution_count": null,
   "id": "a0daa243",
   "metadata": {},
   "outputs": [],
   "source": []
  },
  {
   "cell_type": "code",
   "execution_count": null,
   "id": "f3a778b0",
   "metadata": {},
   "outputs": [],
   "source": []
  },
  {
   "cell_type": "code",
   "execution_count": null,
   "id": "4823bcab",
   "metadata": {},
   "outputs": [],
   "source": []
  },
  {
   "cell_type": "code",
   "execution_count": null,
   "id": "f3859377",
   "metadata": {},
   "outputs": [],
   "source": []
  },
  {
   "cell_type": "code",
   "execution_count": null,
   "id": "3a2def1a",
   "metadata": {},
   "outputs": [],
   "source": []
  },
  {
   "cell_type": "code",
   "execution_count": null,
   "id": "6b35c4cb",
   "metadata": {},
   "outputs": [],
   "source": []
  },
  {
   "cell_type": "code",
   "execution_count": null,
   "id": "7a1cea91",
   "metadata": {},
   "outputs": [],
   "source": []
  },
  {
   "cell_type": "code",
   "execution_count": null,
   "id": "60027156",
   "metadata": {},
   "outputs": [],
   "source": []
  },
  {
   "cell_type": "code",
   "execution_count": null,
   "id": "893838a7",
   "metadata": {},
   "outputs": [],
   "source": []
  },
  {
   "cell_type": "code",
   "execution_count": null,
   "id": "08e7f88b",
   "metadata": {},
   "outputs": [],
   "source": []
  },
  {
   "cell_type": "code",
   "execution_count": null,
   "id": "fef83029",
   "metadata": {},
   "outputs": [],
   "source": []
  },
  {
   "cell_type": "code",
   "execution_count": null,
   "id": "a84f474c",
   "metadata": {},
   "outputs": [],
   "source": []
  }
 ],
 "metadata": {
  "interpreter": {
   "hash": "31f2aee4e71d21fbe5cf8b01ff0e069b9275f58929596ceb00d14d90e3e16cd6"
  },
  "kernelspec": {
   "display_name": "Python 3 (ipykernel)",
   "language": "python",
   "name": "python3"
  },
  "language_info": {
   "codemirror_mode": {
    "name": "ipython",
    "version": 3
   },
   "file_extension": ".py",
   "mimetype": "text/x-python",
   "name": "python",
   "nbconvert_exporter": "python",
   "pygments_lexer": "ipython3",
   "version": "3.9.7"
  }
 },
 "nbformat": 4,
 "nbformat_minor": 5
}
