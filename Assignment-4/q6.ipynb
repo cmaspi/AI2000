{
 "cells": [
  {
   "cell_type": "code",
   "execution_count": 2,
   "metadata": {},
   "outputs": [],
   "source": [
    "import numpy as np\n",
    "import pandas as pd\n",
    "from sklearn.ensemble import GradientBoostingRegressor\n",
    "from xgboost import XGBRegressor\n",
    "from sklearn.neighbors import KNeighborsRegressor"
   ]
  },
  {
   "cell_type": "code",
   "execution_count": 3,
   "metadata": {},
   "outputs": [],
   "source": [
    "def preprocess(filename, nrows):\n",
    "    df = pd.read_csv(filename, nrows = nrows)\n",
    "    df['pickup_datetime'] = pd.to_datetime(df['pickup_datetime'])\n",
    "    df['Hour'] = df['pickup_datetime'].dt.hour\n",
    "    df['day'] = df['pickup_datetime'].dt.dayofweek\n",
    "    df.dropna(inplace=True)\n",
    "    df.drop(columns=['key', 'pickup_datetime'], inplace=True)\n",
    "    df.drop(df[df['passenger_count']>=7].index, inplace=True)\n",
    "    df.drop(df[df['passenger_count']<=0].index, inplace=True)\n",
    "    df.drop(df[df['fare_amount']<=0.1].index, inplace=True)\n",
    "    df.drop(df[df['fare_amount']>=500].index, inplace=True)\n",
    "    df.drop(df[df['pickup_latitude']<=39].index, inplace=True)\n",
    "    df.drop(df[df['pickup_latitude']>=41].index, inplace=True)\n",
    "    df.drop(df[df['pickup_longitude']>=-70].index, inplace=True)\n",
    "    df.drop(df[df['pickup_longitude']<=-80].index, inplace=True)\n",
    "    df.drop(df[df['dropoff_latitude']<=35].index, inplace=True)\n",
    "    df.drop(df[df['dropoff_latitude']>=45].index, inplace=True)\n",
    "    df.drop(df[df['dropoff_longitude']>=-73].index, inplace=True)\n",
    "    df.drop(df[df['dropoff_longitude']<=-75].index, inplace=True)\n",
    "    train = df.to_numpy(dtype=float)\n",
    "    np.random.shuffle(train)\n",
    "    trainX = train[:,1:]\n",
    "    trainY = train[:,0]\n",
    "    return trainX, trainY\n",
    "\n",
    " \n",
    "\n"
   ]
  },
  {
   "cell_type": "code",
   "execution_count": 3,
   "metadata": {},
   "outputs": [],
   "source": [
    "def preprocessForKnn(filename, nrows):\n",
    "    df = pd.read_csv(filename, nrows = nrows)\n",
    "    df.dropna(inplace=True)\n",
    "    df.drop(columns=['key', 'pickup_datetime','passenger_count'], inplace=True)\n",
    "    df.drop(df[df['fare_amount']<=0.1].index, inplace=True)\n",
    "    df.drop(df[df['fare_amount']>=500].index, inplace=True)\n",
    "    df.drop(df[df['pickup_latitude']<=39].index, inplace=True)\n",
    "    df.drop(df[df['pickup_latitude']>=41].index, inplace=True)\n",
    "    df.drop(df[df['pickup_longitude']>=-70].index, inplace=True)\n",
    "    df.drop(df[df['pickup_longitude']<=-80].index, inplace=True)\n",
    "    df.drop(df[df['dropoff_latitude']<=35].index, inplace=True)\n",
    "    df.drop(df[df['dropoff_latitude']>=45].index, inplace=True)\n",
    "    df.drop(df[df['dropoff_longitude']>=-73].index, inplace=True)\n",
    "    df.drop(df[df['dropoff_longitude']<=-75].index, inplace=True)\n",
    "    train = df.to_numpy(dtype=float)\n",
    "    np.random.shuffle(train)\n",
    "    trainX = train[:,1:]\n",
    "    trainY = train[:,0]\n",
    "    return trainX, trainY\n",
    "\n",
    " \n",
    "\n"
   ]
  },
  {
   "cell_type": "code",
   "execution_count": 5,
   "metadata": {},
   "outputs": [],
   "source": [
    "ts = pd.read_csv('test.csv')\n",
    "submit = ts['key'].to_numpy()\n",
    "ts.drop(columns=['key','pickup_datetime','passenger_count'], inplace=True)\n",
    "test = ts.to_numpy(dtype=float)"
   ]
  },
  {
   "cell_type": "code",
   "execution_count": 7,
   "metadata": {},
   "outputs": [],
   "source": [
    "clf = KNeighborsRegressor(n_neighbors=7)\n",
    "trainX, trainY = preprocessForKnn('train.csv',30000000)\n",
    "clf.fit(trainX, trainY)\n",
    "predict = clf.predict(test)\n",
    "output = np.c_[submit.T, predict.T]\n",
    "sub = pd.DataFrame(output)\n",
    "sub.to_csv('knn.csv', index=None, header=['key', 'fare_amount'])"
   ]
  },
  {
   "cell_type": "code",
   "execution_count": 4,
   "metadata": {},
   "outputs": [],
   "source": [
    "ts = pd.read_csv('test.csv')\n",
    "ts['pickup_datetime'] = pd.to_datetime(ts['pickup_datetime'])\n",
    "ts['Hour'] = ts['pickup_datetime'].dt.hour\n",
    "ts['day'] = ts['pickup_datetime'].dt.dayofweek\n",
    "submit = ts['key'].to_numpy()\n",
    "ts.drop(columns=['key','pickup_datetime'], inplace=True)\n",
    "test = ts.to_numpy(dtype=float)"
   ]
  },
  {
   "cell_type": "code",
   "execution_count": 32,
   "metadata": {},
   "outputs": [],
   "source": [
    "trainX, trainY = preprocess('train.csv',100000)\n",
    "\n",
    "clf = XGBRegressor()\n",
    "clf.fit(trainX, trainY)\n",
    "predict = clf.predict(test)\n",
    "output = np.c_[submit.T, predict.T]\n",
    "sub = pd.DataFrame(output)\n",
    "sub.to_csv('xgb.csv', index=None, header=['key', 'fare_amount'])\n"
   ]
  },
  {
   "cell_type": "code",
   "execution_count": 7,
   "metadata": {},
   "outputs": [],
   "source": [
    "trainX, trainY = preprocess('train.csv',100000)\n",
    "\n",
    "clf = GradientBoostingRegressor(n_estimators=500, max_depth=6)\n",
    "clf.fit(trainX, trainY)\n",
    "predict = clf.predict(test)\n",
    "output = np.c_[submit.T, predict.T]\n",
    "sub = pd.DataFrame(output)\n",
    "sub.to_csv('grad.csv', index=None, header=['key', 'fare_amount'])\n"
   ]
  },
  {
   "cell_type": "code",
   "execution_count": null,
   "metadata": {},
   "outputs": [],
   "source": []
  }
 ],
 "metadata": {
  "interpreter": {
   "hash": "916dbcbb3f70747c44a77c7bcd40155683ae19c65e1c03b4aa3499c5328201f1"
  },
  "kernelspec": {
   "display_name": "Python 3.9.7 64-bit",
   "language": "python",
   "name": "python3"
  },
  "language_info": {
   "codemirror_mode": {
    "name": "ipython",
    "version": 3
   },
   "file_extension": ".py",
   "mimetype": "text/x-python",
   "name": "python",
   "nbconvert_exporter": "python",
   "pygments_lexer": "ipython3",
   "version": "3.9.7"
  },
  "orig_nbformat": 4
 },
 "nbformat": 4,
 "nbformat_minor": 2
}
