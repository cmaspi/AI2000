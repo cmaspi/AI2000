{
  "nbformat": 4,
  "nbformat_minor": 0,
  "metadata": {
    "colab": {
      "name": "Question5.ipynb",
      "provenance": [],
      "collapsed_sections": []
    },
    "kernelspec": {
      "name": "python3",
      "display_name": "Python 3"
    },
    "language_info": {
      "name": "python"
    }
  },
  "cells": [
    {
      "cell_type": "code",
      "metadata": {
        "id": "E3_UNakxG6wZ"
      },
      "source": [
        "import numpy as np\n",
        "from sklearn import svm"
      ],
      "execution_count": 1,
      "outputs": []
    },
    {
      "cell_type": "code",
      "metadata": {
        "id": "n5tLogKa7iw4"
      },
      "source": [
        "def retList(filename):\n",
        "  f = open(filename,'r')\n",
        "  dataString = f.readlines()\n",
        "  data = []\n",
        "  for i in range(len(dataString)):\n",
        "    data.append(dataString[i].split())\n",
        "  return data\n",
        "\n",
        "def retLabels(filename):\n",
        "  f=open(filename,'r')\n",
        "  dataString = f.readlines()\n",
        "  labels = []\n",
        "  for i in range(len(dataString)):\n",
        "    labels.append(float(dataString[i]))\n",
        "  return labels \n",
        "\n",
        "def accuracy(label,predicted):\n",
        "  N = len(predicted)\n",
        "  crt = 0\n",
        "  for i in range(N):\n",
        "    if label[i] == predicted[i]:\n",
        "      crt = crt+1\n",
        "  return crt/N"
      ],
      "execution_count": 2,
      "outputs": []
    },
    {
      "cell_type": "code",
      "metadata": {
        "id": "HEMuz8HL8BbU"
      },
      "source": [
        "trainX = retList('gisette_train.data')\n",
        "trainY = retLabels('gisette_train.labels')\n",
        "test = retList('gisette_test.data')\n",
        "ValidX = retList('gisette_valid.data')\n",
        "ValidY = retLabels('gisette_valid.labels')"
      ],
      "execution_count": 3,
      "outputs": []
    },
    {
      "cell_type": "code",
      "metadata": {
        "colab": {
          "base_uri": "https://localhost:8080/"
        },
        "id": "pbjsXr3H8JZo",
        "outputId": "d2018021-ab46-488d-cd02-2deba0170771"
      },
      "source": [
        "classifier = svm.SVC(kernel='linear')\n",
        "classifier.fit(trainX,trainY)\n",
        "predicted = classifier.predict(ValidX)\n",
        "print(\"The training error is :\",1-accuracy(trainY,classifier.predict(trainX)))\n",
        "print(\"The Validation error is\",1-accuracy(ValidY,predicted))\n",
        "print(\"Number of support vectors is \",len(classifier.support_vectors_))"
      ],
      "execution_count": 5,
      "outputs": [
        {
          "output_type": "stream",
          "name": "stdout",
          "text": [
            "The training error is : 0.0\n",
            "The Validation error is 0.02400000000000002\n",
            "Number of support vectors is  1084\n"
          ]
        }
      ]
    },
    {
      "cell_type": "code",
      "metadata": {
        "colab": {
          "base_uri": "https://localhost:8080/"
        },
        "id": "GtkutdMWG-fE",
        "outputId": "64f0f8aa-1ba6-4a21-f344-58e0e8a24310"
      },
      "source": [
        "classifier = svm.SVC(kernel='rbf', gamma=0.001)\n",
        "classifier.fit(trainX,trainY)\n",
        "predicted = classifier.predict(ValidX)\n",
        "print(\"The training error is :\",1-accuracy(trainY,classifier.predict(trainX)))\n",
        "print(\"The validation error is : \",1-accuracy(ValidY,predicted))\n",
        "print(\"Number of support vectors is \",len(classifier.support_vectors_))"
      ],
      "execution_count": 6,
      "outputs": [
        {
          "output_type": "stream",
          "name": "stdout",
          "text": [
            "The training error is : 0.0\n",
            "The validation error is :  0.5\n",
            "Number of support vectors is  6000\n"
          ]
        }
      ]
    },
    {
      "cell_type": "code",
      "metadata": {
        "colab": {
          "base_uri": "https://localhost:8080/"
        },
        "id": "Q-xKypJHIP5Y",
        "outputId": "0c236989-ecf3-4fdb-81fe-6d124a16bb49"
      },
      "source": [
        "classifier = svm.SVC(kernel='poly', degree=2, coef0 =1)\n",
        "classifier.fit(trainX,trainY)\n",
        "predicted = classifier.predict(ValidX)\n",
        "print(\"The training error is :\", 1-accuracy(trainY,classifier.predict(trainX)))\n",
        "print(\"The validation error is\", 1-accuracy(ValidY,predicted))\n",
        "print(\"Number of support vectors is \",len(classifier.support_vectors_))"
      ],
      "execution_count": 9,
      "outputs": [
        {
          "output_type": "stream",
          "name": "stdout",
          "text": [
            "The training error is : 0.0004999999999999449\n",
            "The validation error is 0.020000000000000018\n",
            "Number of support vectors is  1332\n"
          ]
        }
      ]
    },
    {
      "cell_type": "code",
      "metadata": {
        "id": "bQNLpZR2Ijif"
      },
      "source": [
        ""
      ],
      "execution_count": null,
      "outputs": []
    }
  ]
}