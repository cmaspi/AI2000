{
  "nbformat": 4,
  "nbformat_minor": 0,
  "metadata": {
    "colab": {
      "name": "Question4.ipynb",
      "provenance": [],
      "collapsed_sections": []
    },
    "kernelspec": {
      "name": "python3",
      "display_name": "Python 3"
    },
    "language_info": {
      "name": "python"
    }
  },
  "cells": [
    {
      "cell_type": "code",
      "metadata": {
        "id": "bnBYqLGeGIr5"
      },
      "source": [
        "import numpy as np\n",
        "from sklearn import svm"
      ],
      "execution_count": 17,
      "outputs": []
    },
    {
      "cell_type": "code",
      "metadata": {
        "id": "vZENMAS1B1hc"
      },
      "source": [
        "def floatList(x):\n",
        "  ret=[]\n",
        "  for i in x:\n",
        "    ret.append(float(i))\n",
        "  return ret\n",
        "\n",
        "def accuracy(label,predicted):\n",
        "  N = len(predicted)\n",
        "  crt = 0\n",
        "  for i in range(N):\n",
        "    if label[i] == predicted[i]:\n",
        "      crt = crt+1\n",
        "  return crt/N"
      ],
      "execution_count": 18,
      "outputs": []
    },
    {
      "cell_type": "code",
      "metadata": {
        "id": "c2CGkGAioCgC"
      },
      "source": [
        "trainFile = open('4-Train.txt','r')\n",
        "trainString = trainFile.readlines()\n",
        "trainUniverse, train = [],[]\n",
        "for i in range(len(trainString)):\n",
        "  trainUniverse.append(floatList(trainString[i].split()))\n",
        "for i in trainUniverse:\n",
        "  if i[0] == 1 or i[0] == 5:\n",
        "    train.append(i)\n",
        "trainX = [ [x[1],x[2]] for x in train]\n",
        "trainY = [x[0] for x in train]\n",
        "for i in range(len(trainY)):\n",
        "  if trainY[i]==5:\n",
        "    trainY[i]=-1\n",
        "\n",
        "testFile = open('4-Test.txt','r')\n",
        "testString = testFile.readlines()\n",
        "testUniverse, test = [],[]\n",
        "for i in range(len(testString)):\n",
        "  testUniverse.append(floatList(testString[i].split()))\n",
        "for i in testUniverse:\n",
        "  if i[0] == 1 or i[0] == 5:\n",
        "    test.append(i)\n",
        "testX = [ [x[1],x[2]] for x in test]\n",
        "testY = [x[0] for x in test]\n",
        "for i in range(len(testY)):\n",
        "  if testY[i]==5:\n",
        "    testY[i]=-1\n",
        "\n"
      ],
      "execution_count": 27,
      "outputs": []
    },
    {
      "cell_type": "code",
      "metadata": {
        "colab": {
          "base_uri": "https://localhost:8080/"
        },
        "id": "Nfz17hcpo_kF",
        "outputId": "6d00db74-3245-453a-ba81-e14bf25143fe"
      },
      "source": [
        "classifier = svm.SVC(kernel='linear')\n",
        "classifier.fit(trainX,trainY)\n",
        "predicted = classifier.predict(testX)\n",
        "print(\"The accuracy is\",accuracy(testY,predicted))\n",
        "print(\"Number of support vectors is \",len(classifier.support_vectors_))"
      ],
      "execution_count": 28,
      "outputs": [
        {
          "output_type": "stream",
          "name": "stdout",
          "text": [
            "The accuracy is 0.9787735849056604\n",
            "Number of support vectors is  28\n"
          ]
        }
      ]
    },
    {
      "cell_type": "code",
      "metadata": {
        "colab": {
          "base_uri": "https://localhost:8080/"
        },
        "id": "5lcAAO21GeVX",
        "outputId": "8b24db42-1246-4b28-842a-b494e74115cc"
      },
      "source": [
        "num=[50,100,200,800]\n",
        "for i in num:\n",
        "  classifier = svm.SVC(kernel='linear')\n",
        "  classifier.fit(trainX[0:i],trainY[0:i])\n",
        "  predicted = classifier.predict(testX)\n",
        "  print(\"for first %d data points\"%(i))\n",
        "  print(\"The accuracy is\",accuracy(testY,predicted))\n",
        "  print(\"Number of support vectors is \",len(classifier.support_vectors_))\n",
        "  print()"
      ],
      "execution_count": 29,
      "outputs": [
        {
          "output_type": "stream",
          "name": "stdout",
          "text": [
            "for first 50 data points\n",
            "The accuracy is 0.9811320754716981\n",
            "Number of support vectors is  2\n",
            "\n",
            "for first 100 data points\n",
            "The accuracy is 0.9811320754716981\n",
            "Number of support vectors is  4\n",
            "\n",
            "for first 200 data points\n",
            "The accuracy is 0.9811320754716981\n",
            "Number of support vectors is  8\n",
            "\n",
            "for first 800 data points\n",
            "The accuracy is 0.9811320754716981\n",
            "Number of support vectors is  14\n",
            "\n"
          ]
        }
      ]
    },
    {
      "cell_type": "code",
      "metadata": {
        "colab": {
          "base_uri": "https://localhost:8080/"
        },
        "id": "x7qGzEbQZNYA",
        "outputId": "11574f46-532c-4bff-9639-403b57edba99"
      },
      "source": [
        "for i in [2,5]:\n",
        "    classifier = svm.SVC(kernel='poly',degree=i,coef0=1)\n",
        "    classifier.fit(trainX,trainY)\n",
        "    predicted = classifier.predict(testX)\n",
        "    print(\"degree = %d\"%(i))\n",
        "    print(\"The test accuracy is\",accuracy(testY,predicted))\n",
        "    print(\"Number of support vectors is \",len(classifier.support_vectors_))\n",
        "    print()"
      ],
      "execution_count": 30,
      "outputs": [
        {
          "output_type": "stream",
          "name": "stdout",
          "text": [
            "degree = 2\n",
            "The test accuracy is 0.9787735849056604\n",
            "Number of support vectors is  28\n",
            "\n",
            "degree = 5\n",
            "The test accuracy is 0.9764150943396226\n",
            "Number of support vectors is  25\n",
            "\n"
          ]
        }
      ]
    },
    {
      "cell_type": "code",
      "metadata": {
        "colab": {
          "base_uri": "https://localhost:8080/"
        },
        "id": "RvqNQi7MUir2",
        "outputId": "be6d7cc0-e240-4709-f372-a2588c6fa279"
      },
      "source": [
        "for j in [0.0001,0.001,0.01,1]:\n",
        "  for i in [2,5]:\n",
        "    classifier = svm.SVC(C=j,kernel='poly',degree=i,coef0=1)\n",
        "    classifier.fit(trainX,trainY)\n",
        "    predicted = classifier.predict(testX)\n",
        "    print(\"C: %f ,degree = %d\"%(j,i))\n",
        "    print(\"The training accuracy is\", accuracy(trainY,classifier.predict(trainX)))\n",
        "    print(\"The test accuracy is\",accuracy(testY,predicted))\n",
        "    print(\"Number of support vectors is \",len(classifier.support_vectors_))\n",
        "    print()"
      ],
      "execution_count": 31,
      "outputs": [
        {
          "output_type": "stream",
          "name": "stdout",
          "text": [
            "C: 0.000100 ,degree = 2\n",
            "The training accuracy is 0.7463164638052531\n",
            "The test accuracy is 0.7429245283018868\n",
            "Number of support vectors is  1112\n",
            "\n",
            "C: 0.000100 ,degree = 5\n",
            "The training accuracy is 0.9814221652786675\n",
            "The test accuracy is 0.9716981132075472\n",
            "Number of support vectors is  188\n",
            "\n",
            "C: 0.001000 ,degree = 2\n",
            "The training accuracy is 0.985906470211403\n",
            "The test accuracy is 0.9740566037735849\n",
            "Number of support vectors is  456\n",
            "\n",
            "C: 0.001000 ,degree = 5\n",
            "The training accuracy is 0.9935938500960922\n",
            "The test accuracy is 0.9811320754716981\n",
            "Number of support vectors is  72\n",
            "\n",
            "C: 0.010000 ,degree = 2\n",
            "The training accuracy is 0.9948750800768738\n",
            "The test accuracy is 0.9811320754716981\n",
            "Number of support vectors is  132\n",
            "\n",
            "C: 0.010000 ,degree = 5\n",
            "The training accuracy is 0.9955156950672646\n",
            "The test accuracy is 0.9834905660377359\n",
            "Number of support vectors is  34\n",
            "\n",
            "C: 1.000000 ,degree = 2\n",
            "The training accuracy is 0.9955156950672646\n",
            "The test accuracy is 0.9787735849056604\n",
            "Number of support vectors is  28\n",
            "\n",
            "C: 1.000000 ,degree = 5\n",
            "The training accuracy is 0.9961563100576554\n",
            "The test accuracy is 0.9764150943396226\n",
            "Number of support vectors is  25\n",
            "\n"
          ]
        }
      ]
    },
    {
      "cell_type": "markdown",
      "metadata": {
        "id": "iDPR2qEMa9l1"
      },
      "source": [
        "4)c)\n",
        "i) false\n",
        "ii) true\n",
        "iii) false\n",
        "iv) false\n"
      ]
    },
    {
      "cell_type": "code",
      "metadata": {
        "colab": {
          "base_uri": "https://localhost:8080/"
        },
        "id": "PrBvbuLIVlb6",
        "outputId": "55ceb8f0-6b8e-4bd3-e6c1-8db9673eaafe"
      },
      "source": [
        "for j in [0.01,1,100,10000,1000000]:\n",
        "  classifier = svm.SVC(C=j,kernel='rbf',gamma=1)\n",
        "  classifier.fit(trainX,trainY)\n",
        "  predicted = classifier.predict(testX)\n",
        "  print(\"C = %f\"%(j))\n",
        "  print(\"The training error is\",1- accuracy(trainY,classifier.predict(trainX)))\n",
        "  print(\"The test error is\",1-accuracy(testY,predicted))\n",
        "  print(\"Number of support vectors is \",len(classifier.support_vectors_))\n",
        "  print()"
      ],
      "execution_count": 32,
      "outputs": [
        {
          "output_type": "stream",
          "name": "stdout",
          "text": [
            "C = 0.010000\n",
            "The training error is 0.0038436899423446302\n",
            "The test error is 0.02358490566037741\n",
            "Number of support vectors is  406\n",
            "\n",
            "C = 1.000000\n",
            "The training error is 0.004484304932735439\n",
            "The test error is 0.021226415094339646\n",
            "Number of support vectors is  31\n",
            "\n",
            "C = 100.000000\n",
            "The training error is 0.0032030749519538215\n",
            "The test error is 0.018867924528301883\n",
            "Number of support vectors is  22\n",
            "\n",
            "C = 10000.000000\n",
            "The training error is 0.002562459961563124\n",
            "The test error is 0.02358490566037741\n",
            "Number of support vectors is  19\n",
            "\n",
            "C = 1000000.000000\n",
            "The training error is 0.0006406149903908087\n",
            "The test error is 0.02358490566037741\n",
            "Number of support vectors is  17\n",
            "\n"
          ]
        }
      ]
    },
    {
      "cell_type": "code",
      "metadata": {
        "id": "GkkXuRAFcjFV"
      },
      "source": [
        ""
      ],
      "execution_count": null,
      "outputs": []
    }
  ]
}