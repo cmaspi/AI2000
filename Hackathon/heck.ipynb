{
 "cells": [
  {
   "cell_type": "code",
   "execution_count": 1,
   "metadata": {},
   "outputs": [],
   "source": [
    "import numpy as np\n",
    "import pandas as pd\n",
    "import numpy as np\n",
    "\n",
    "def normalise(a):\n",
    "    if a<0:\n",
    "        a=-a\n",
    "    a=a/np.power(10,np.floor(np.log10(a)))\n",
    "    return a\n",
    "\n",
    "    "
   ]
  },
  {
   "cell_type": "code",
   "execution_count": 2,
   "metadata": {},
   "outputs": [
    {
     "name": "stderr",
     "output_type": "stream",
     "text": [
      "<ipython-input-2-9be9fe587136>:2: SettingWithCopyWarning: \n",
      "A value is trying to be set on a copy of a slice from a DataFrame\n",
      "\n",
      "See the caveats in the documentation: https://pandas.pydata.org/pandas-docs/stable/user_guide/indexing.html#returning-a-view-versus-a-copy\n",
      "  df['Equipment Problems'][10]='NOT STREPPED RIGHT'\n",
      "<ipython-input-2-9be9fe587136>:3: SettingWithCopyWarning: \n",
      "A value is trying to be set on a copy of a slice from a DataFrame\n",
      "\n",
      "See the caveats in the documentation: https://pandas.pydata.org/pandas-docs/stable/user_guide/indexing.html#returning-a-view-versus-a-copy\n",
      "  df['Equipment Problems'][20]='SIZE/TYPE IMPROPER'\n",
      "<ipython-input-2-9be9fe587136>:7: SettingWithCopyWarning: \n",
      "A value is trying to be set on a copy of a slice from a DataFrame\n",
      "\n",
      "See the caveats in the documentation: https://pandas.pydata.org/pandas-docs/stable/user_guide/indexing.html#returning-a-view-versus-a-copy\n",
      "  df['loc2'][i]=normalise(df['loc2'][i])\n"
     ]
    },
    {
     "name": "stdout",
     "output_type": "stream",
     "text": [
      "<class 'pandas.core.frame.DataFrame'>\n",
      "RangeIndex: 51490 entries, 0 to 51489\n",
      "Data columns (total 30 columns):\n",
      " #   Column                          Non-Null Count  Dtype  \n",
      "---  ------                          --------------  -----  \n",
      " 0   Agency Name                     51490 non-null  int8   \n",
      " 1   ACRS Report Type                51490 non-null  int8   \n",
      " 2   Route Type                      51490 non-null  int8   \n",
      " 3   Cross-Street Type               51490 non-null  int8   \n",
      " 4   Collision Type                  51490 non-null  int8   \n",
      " 5   Weather                         51490 non-null  int8   \n",
      " 6   Surface Condition               51490 non-null  int8   \n",
      " 7   Light                           51490 non-null  int8   \n",
      " 8   Traffic Control                 51490 non-null  int8   \n",
      " 9   Driver Substance Abuse          51490 non-null  int8   \n",
      " 10  Non-Motorist Substance Abuse    51490 non-null  int8   \n",
      " 11  Injury Severity                 51490 non-null  int8   \n",
      " 12  Vehicle Damage Extent           51490 non-null  int8   \n",
      " 13  Vehicle First Impact Location   51490 non-null  int8   \n",
      " 14  Vehicle Second Impact Location  51490 non-null  int8   \n",
      " 15  Vehicle Body Type               51490 non-null  int8   \n",
      " 16  Vehicle Movement                51490 non-null  int8   \n",
      " 17  Vehicle Continuing Dir          51490 non-null  int8   \n",
      " 18  Vehicle Going Dir               51490 non-null  int8   \n",
      " 19  Speed Limit                     51490 non-null  int64  \n",
      " 20  Parked Vehicle                  51490 non-null  int8   \n",
      " 21  Vehicle Year                    51490 non-null  int64  \n",
      " 22  Equipment Problems              51490 non-null  int8   \n",
      " 23  Latitude                        51490 non-null  float64\n",
      " 24  Longitude                       51490 non-null  float64\n",
      " 25  Fault                           51490 non-null  int64  \n",
      " 26  loc1                            51490 non-null  float64\n",
      " 27  loc2                            51490 non-null  float64\n",
      " 28  Hour                            51490 non-null  int64  \n",
      " 29  day                             51490 non-null  int64  \n",
      "dtypes: float64(4), int64(5), int8(21)\n",
      "memory usage: 4.6 MB\n"
     ]
    }
   ],
   "source": [
    "df =pd.read_csv('train.csv')\n",
    "df['Equipment Problems'][10]='NOT STREPPED RIGHT'\n",
    "df['Equipment Problems'][20]='SIZE/TYPE IMPROPER'\n",
    "df['Location'] = df['Location'].str.replace(\",\",' ')\n",
    "df[['loc1','loc2']] = df.Location.str.split(' ',expand = True).astype(float)\n",
    "for i in range(len(df.index)):\n",
    "    df['loc2'][i]=normalise(df['loc2'][i])\n",
    "# Montgomery County Police\n",
    "\n",
    "df['Agency Name'] = df['Agency Name'].str.replace(\"Montgomery County Police\",'MONTGOMERY')\n",
    "df['Driver Substance Abuse'] = df['Driver Substance Abuse'].str.replace(\"CONTRIBUTED\",'PRESENT')\n",
    "df['Driver Substance Abuse'] = df['Driver Substance Abuse'].str.replace(\"COMBINED SUBSTANCE\",'COMBINATION')\n",
    "\n",
    "\n",
    "df['ACRS Report Type'].fillna(\"UNKNOWN\", inplace=True)\n",
    "df['ACRS Report Type'] = df['ACRS Report Type'].astype('category').cat.codes\n",
    "\n",
    "df['Crash Date/Time'] = pd.to_datetime(df['Crash Date/Time'])\n",
    "df['Hour'] = df['Crash Date/Time'].dt.hour\n",
    "df['day'] = df['Crash Date/Time'].dt.dayofweek\n",
    "\n",
    "df.drop(columns = ['Report Number','Local Case Number','Road Name','Cross-Street Name','Off-Road Description','Municipality','Location','Circumstance','Vehicle Model', 'Vehicle Make','Vehicle ID','Road Name','Person ID','Driverless Vehicle','Crash Date/Time','Drivers License State','Related Non-Motorist'],inplace=True)\n",
    "\n",
    "\n",
    "df['Route Type'].fillna(\"UNKNOWN\", inplace=True)\n",
    "df['Route Type'] = df['Route Type'].astype('category').cat.codes\n",
    "\n",
    "df['Cross-Street Type'].fillna(\"UNKNOWN\", inplace=True)\n",
    "df['Cross-Street Type'] = df['Cross-Street Type'].astype('category').cat.codes\n",
    "\n",
    "df['Collision Type'].fillna(\"UNKNOWN\", inplace=True)\n",
    "df['Collision Type'] = df['Collision Type'].astype('category').cat.codes\n",
    "\n",
    "df['Parked Vehicle'].fillna(\"UNKNOWN\", inplace=True)\n",
    "df['Parked Vehicle'] = df['Parked Vehicle'].astype('category').cat.codes\n",
    "\n",
    "df['Vehicle First Impact Location'].fillna(\"UNKNOWN\", inplace=True)\n",
    "df['Vehicle First Impact Location'] = df['Vehicle First Impact Location'].astype('category').cat.codes\n",
    "\n",
    "df['Vehicle Second Impact Location'].fillna(\"UNKNOWN\", inplace=True)\n",
    "df['Vehicle Second Impact Location'] = df['Vehicle Second Impact Location'].astype('category').cat.codes\n",
    "\n",
    "df['Vehicle Damage Extent'].fillna(\"UNKNOWN\", inplace=True)\n",
    "df['Vehicle Damage Extent'] = df['Vehicle Damage Extent'].astype('category').cat.codes\n",
    "\n",
    "df['Injury Severity'].fillna(\"UNKNOWN\", inplace=True)\n",
    "df['Injury Severity'] = df['Injury Severity'].astype('category').cat.codes\n",
    "\n",
    "df['Vehicle Movement'].fillna(\"UNKNOWN\", inplace=True)\n",
    "df['Vehicle Movement'] = df['Vehicle Movement'].astype('category').cat.codes\n",
    "\n",
    "df['Driver Substance Abuse'].fillna(\"UNKNOWN\", inplace=True)\n",
    "df['Driver Substance Abuse'] = df['Driver Substance Abuse'].astype('category').cat.codes\n",
    "\n",
    "df['Non-Motorist Substance Abuse'].fillna(\"UNKNOWN\", inplace=True)\n",
    "df['Non-Motorist Substance Abuse'] = df['Non-Motorist Substance Abuse'].astype('category').cat.codes\n",
    "\n",
    "df['Weather'].fillna(\"CLEAR\", inplace=True)\n",
    "df['Weather'] = df['Weather'].astype('category').cat.codes\n",
    "\n",
    "df['Surface Condition'].fillna(\"DRY\", inplace=True)\n",
    "df['Surface Condition'] = df['Surface Condition'].astype('category').cat.codes\n",
    "\n",
    "df['Light'].fillna(\"DAYLIGHT\", inplace=True)\n",
    "df['Light'] = df['Light'].astype('category').cat.codes\n",
    "\n",
    "df['Traffic Control'].fillna(\"UNKNOWN\", inplace=True)\n",
    "df['Traffic Control'] = df['Traffic Control'].astype('category').cat.codes\n",
    "\n",
    "df['Equipment Problems'].fillna(\"NO MISUSE\", inplace=True)\n",
    "df['Equipment Problems'] = df['Equipment Problems'].astype('category').cat.codes\n",
    "\n",
    "# df['Drivers License State'].fillna('UNKNOWN', inplace = True)\n",
    "# df['Drivers License State'] = df['Drivers License State'].astype('category').cat.codes\n",
    "\n",
    "# df['Related Non-Motorist'].fillna(\"UNKNOWN\", inplace=True)\n",
    "# df['Related Non-Motorist'] = df['Related Non-Motorist'].astype('category').cat.codes\n",
    "\n",
    "df['Vehicle Body Type'].fillna(\"PASSENGER CAR\", inplace=True)\n",
    "df['Vehicle Body Type'] = df['Vehicle Body Type'].astype('category').cat.codes\n",
    "\n",
    "df['Vehicle Going Dir'].fillna(\"UNKNOWN\", inplace=True)\n",
    "df['Vehicle Going Dir'] = df['Vehicle Going Dir'].astype('category').cat.codes\n",
    "\n",
    "df['Vehicle Continuing Dir'].fillna(\"UNKNOWN\", inplace=True)\n",
    "df['Vehicle Continuing Dir'] = df['Vehicle Continuing Dir'].astype('category').cat.codes\n",
    "\n",
    "df['Agency Name'].fillna(\"UNKNOWN\", inplace=True)\n",
    "df['Agency Name'] = df['Agency Name'].astype('category').cat.codes\n",
    "\n",
    "\n",
    "# df['Driver Substance Abuse'].value_counts()\n",
    "\n",
    "# df['Equipment Problems'].value_counts()#.plot()\n",
    "# df[df['Cross-Street Type'].str.contains('Cou', regex=True, na=False)].describe()\n",
    "# rf = df[df['Vehicle Year']>2020]\n",
    "# rf = rf[rf['Vehicle Year']>1960]\n",
    "# rf.describe()\n",
    "\n",
    "\n",
    "df.info()\n",
    "# df.head()"
   ]
  },
  {
   "cell_type": "code",
   "execution_count": 3,
   "metadata": {},
   "outputs": [],
   "source": [
    "label = df['Fault'].to_numpy(dtype=float)\n",
    "train = df.drop(columns = ['Fault']).to_numpy(dtype=float)\n",
    "\n",
    "from sklearn.model_selection import train_test_split\n",
    "\n",
    "x,xt,y,yt = train_test_split(train, label, test_size=0.2)"
   ]
  },
  {
   "cell_type": "code",
   "execution_count": 10,
   "metadata": {},
   "outputs": [
    {
     "data": {
      "text/plain": [
       "GradientBoostingClassifier(max_depth=6, n_estimators=500)"
      ]
     },
     "execution_count": 10,
     "metadata": {},
     "output_type": "execute_result"
    }
   ],
   "source": [
    "from sklearn.ensemble import GradientBoostingClassifier\n",
    "\n",
    "clf = GradientBoostingClassifier(n_estimators=500, max_depth=6)\n",
    "clf.fit(train, label)\n",
    "# pred = clf.predict(xt)\n",
    "# print(yt.shape, pred.shape)\n",
    "# print(accuracy(yt, pred))\n",
    "# print(yt, pred)"
   ]
  },
  {
   "cell_type": "code",
   "execution_count": 11,
   "metadata": {},
   "outputs": [
    {
     "data": {
      "text/plain": [
       "0.9347446106040008"
      ]
     },
     "execution_count": 11,
     "metadata": {},
     "output_type": "execute_result"
    }
   ],
   "source": [
    "clf.score(xt , yt)\n"
   ]
  },
  {
   "cell_type": "code",
   "execution_count": 12,
   "metadata": {},
   "outputs": [
    {
     "name": "stderr",
     "output_type": "stream",
     "text": [
      "/usr/lib/python3/dist-packages/IPython/core/interactiveshell.py:3427: DtypeWarning: Columns (2) have mixed types.Specify dtype option on import or set low_memory=False.\n",
      "  exec(code_obj, self.user_global_ns, self.user_ns)\n"
     ]
    },
    {
     "data": {
      "text/plain": [
       "NO MISUSE              54764\n",
       "UNKNOWN                 5870\n",
       "AIR BAG FAILED           101\n",
       "OTHER                     49\n",
       "BELT(S) MISUSED           13\n",
       "BELTS/ANCHORS BROKE        7\n",
       "NOT STREPPED RIGHT         2\n",
       "STRAP/TETHER LOOSE         2\n",
       "FACING WRONG WAY           2\n",
       "SIZE/TYPE IMPROPER         1\n",
       "Name: Equipment Problems, dtype: int64"
      ]
     },
     "execution_count": 12,
     "metadata": {},
     "output_type": "execute_result"
    }
   ],
   "source": [
    "test = pd.read_csv('test.csv')\n",
    "test['Equipment Problems'].value_counts()"
   ]
  },
  {
   "cell_type": "code",
   "execution_count": 13,
   "metadata": {},
   "outputs": [
    {
     "name": "stderr",
     "output_type": "stream",
     "text": [
      "<ipython-input-13-6bdf4d50e6c3>:4: SettingWithCopyWarning: \n",
      "A value is trying to be set on a copy of a slice from a DataFrame\n",
      "\n",
      "See the caveats in the documentation: https://pandas.pydata.org/pandas-docs/stable/user_guide/indexing.html#returning-a-view-versus-a-copy\n",
      "  test['loc2'][i]=normalise(test['loc2'][i])\n"
     ]
    }
   ],
   "source": [
    "test['Location'] = test['Location'].str.replace(\",\",' ')\n",
    "test[['loc1','loc2']] = test.Location.str.split(' ',expand = True).astype(float)\n",
    "for i in range(len(test.index)):\n",
    "    test['loc2'][i]=normalise(test['loc2'][i])\n",
    "\n",
    "test['Agency Name'] = test['Agency Name'].str.replace(\"Montgomery County Police\",'MONTGOMERY')\n",
    "test['Driver Substance Abuse'] = test['Driver Substance Abuse'].str.replace(\"CONTRIBUTED\",'PRESENT')\n",
    "test['Driver Substance Abuse'] = test['Driver Substance Abuse'].str.replace(\"COMBINED SUBSTANCE\",'COMBINATION')\n",
    "# test = test.drop(test[test['loc2']<7].index,axis=0)\n",
    "\n",
    "test['ACRS Report Type'] = test['ACRS Report Type'].astype('category').cat.codes\n",
    "\n",
    "test['Crash Date/Time'] = pd.to_datetime(test['Crash Date/Time'])\n",
    "test['Hour'] = test['Crash Date/Time'].dt.hour\n",
    "test['day'] = test['Crash Date/Time'].dt.dayofweek\n",
    "\n",
    "test.drop(columns = ['Id','Report Number','Local Case Number','Road Name','Cross-Street Name','Off-Road Description','Municipality','Location','Circumstance','Vehicle Model', 'Vehicle Make','Vehicle ID','Road Name','Person ID','Driverless Vehicle','Crash Date/Time','Drivers License State', 'Related Non-Motorist'],inplace=True)\n",
    "\n",
    "test['Route Type'].fillna(\"UNKNOWN\", inplace=True)\n",
    "test['Route Type'] = test['Route Type'].astype('category').cat.codes\n",
    "\n",
    "test['Cross-Street Type'].fillna(\"UNKNOWN\", inplace=True)\n",
    "test['Cross-Street Type'] = test['Cross-Street Type'].astype('category').cat.codes\n",
    "\n",
    "test['Collision Type'].fillna(\"UNKNOWN\", inplace=True)\n",
    "test['Collision Type'] = test['Collision Type'].astype('category').cat.codes\n",
    "\n",
    "test['Parked Vehicle'].fillna(\"UNKNOWN\", inplace=True)\n",
    "test['Parked Vehicle'] = test['Parked Vehicle'].astype('category').cat.codes\n",
    "\n",
    "test['Vehicle First Impact Location'].fillna(\"UNKNOWN\", inplace=True)\n",
    "test['Vehicle First Impact Location'] = test['Vehicle First Impact Location'].astype('category').cat.codes\n",
    "\n",
    "test['Vehicle Second Impact Location'].fillna(\"UNKNOWN\", inplace=True)\n",
    "test['Vehicle Second Impact Location'] = test['Vehicle Second Impact Location'].astype('category').cat.codes\n",
    "\n",
    "test['Vehicle Damage Extent'].fillna(\"UNKNOWN\", inplace=True)\n",
    "test['Vehicle Damage Extent'] = test['Vehicle Damage Extent'].astype('category').cat.codes\n",
    "\n",
    "test['Injury Severity'].fillna(\"UNKNOWN\", inplace=True)\n",
    "test['Injury Severity'] = test['Injury Severity'].astype('category').cat.codes\n",
    "\n",
    "test['Vehicle Movement'].fillna(\"UNKNOWN\", inplace=True)\n",
    "test['Vehicle Movement'] = test['Vehicle Movement'].astype('category').cat.codes\n",
    "\n",
    "test['Driver Substance Abuse'].fillna(\"UNKNOWN\", inplace=True)\n",
    "test['Driver Substance Abuse'] = test['Driver Substance Abuse'].astype('category').cat.codes\n",
    "\n",
    "test['Non-Motorist Substance Abuse'].fillna(\"UNKNOWN\", inplace=True)\n",
    "test['Non-Motorist Substance Abuse'] = test['Non-Motorist Substance Abuse'].astype('category').cat.codes\n",
    "\n",
    "test['Weather'].fillna(\"CLEAR\", inplace=True)\n",
    "test['Weather'] = test['Weather'].astype('category').cat.codes\n",
    "\n",
    "test['Surface Condition'].fillna(\"DRY\", inplace=True)\n",
    "test['Surface Condition'] = test['Surface Condition'].astype('category').cat.codes\n",
    "\n",
    "test['Light'].fillna(\"DAYLIGHT\", inplace=True)\n",
    "test['Light'] = test['Light'].astype('category').cat.codes\n",
    "\n",
    "test['Traffic Control'].fillna(\"UNKNOWN\", inplace=True)\n",
    "test['Traffic Control'] = test['Traffic Control'].astype('category').cat.codes\n",
    "\n",
    "test['Equipment Problems'].fillna(\"NO MISUSE\", inplace=True)\n",
    "test['Equipment Problems'] = test['Equipment Problems'].astype('category').cat.codes\n",
    "\n",
    "# test['Drivers License State'].fillna('UNKNOWN', inplace = True)\n",
    "# test['Drivers License State'] = test['Drivers License State'].astype('category').cat.codes\n",
    "\n",
    "# test['Related Non-Motorist'].fillna(\"UNKNOWN\", inplace=True)\n",
    "# test['Related Non-Motorist'] = test['Related Non-Motorist'].astype('category').cat.codes\n",
    "\n",
    "test['Vehicle Body Type'].fillna(\"PASSENGER CAR\", inplace=True)\n",
    "test['Vehicle Body Type'] = test['Vehicle Body Type'].astype('category').cat.codes\n",
    "\n",
    "test['Vehicle Going Dir'].fillna(\"UNKNOWN\", inplace=True)\n",
    "test['Vehicle Going Dir'] = test['Vehicle Going Dir'].astype('category').cat.codes\n",
    "\n",
    "test['Vehicle Continuing Dir'].fillna(\"UNKNOWN\", inplace=True)\n",
    "test['Vehicle Continuing Dir'] = test['Vehicle Continuing Dir'].astype('category').cat.codes\n",
    "\n",
    "test['Agency Name'].fillna(\"UNKNOWN\", inplace=True)\n",
    "test['Agency Name'] = test['Agency Name'].astype('category').cat.codes\n"
   ]
  },
  {
   "cell_type": "code",
   "execution_count": 14,
   "metadata": {},
   "outputs": [],
   "source": [
    "testing = test.to_numpy(dtype=float)"
   ]
  },
  {
   "cell_type": "code",
   "execution_count": 15,
   "metadata": {},
   "outputs": [
    {
     "name": "stdout",
     "output_type": "stream",
     "text": [
      "<class 'pandas.core.frame.DataFrame'>\n",
      "RangeIndex: 77235 entries, 0 to 77234\n",
      "Data columns (total 1 columns):\n",
      " #   Column  Non-Null Count  Dtype\n",
      "---  ------  --------------  -----\n",
      " 0   0       77235 non-null  int64\n",
      "dtypes: int64(1)\n",
      "memory usage: 603.5 KB\n"
     ]
    }
   ],
   "source": [
    "pred = clf.predict(testing)\n",
    "pred=np.array(pred, dtype=int)\n",
    "output = pd.DataFrame(pred)\n",
    "output.to_csv('output.csv', header= ['Fault'])\n",
    "output.info()"
   ]
  },
  {
   "cell_type": "code",
   "execution_count": null,
   "metadata": {},
   "outputs": [],
   "source": []
  }
 ],
 "metadata": {
  "interpreter": {
   "hash": "916dbcbb3f70747c44a77c7bcd40155683ae19c65e1c03b4aa3499c5328201f1"
  },
  "kernelspec": {
   "display_name": "Python 3.9.7 64-bit",
   "language": "python",
   "name": "python3"
  },
  "language_info": {
   "codemirror_mode": {
    "name": "ipython",
    "version": 3
   },
   "file_extension": ".py",
   "mimetype": "text/x-python",
   "name": "python",
   "nbconvert_exporter": "python",
   "pygments_lexer": "ipython3",
   "version": "3.9.7"
  },
  "orig_nbformat": 4
 },
 "nbformat": 4,
 "nbformat_minor": 2
}
