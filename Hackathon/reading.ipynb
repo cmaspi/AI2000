{
 "cells": [
  {
   "cell_type": "code",
   "execution_count": 2,
   "metadata": {},
   "outputs": [],
   "source": [
    "import pandas"
   ]
  },
  {
   "cell_type": "code",
   "execution_count": 25,
   "metadata": {},
   "outputs": [
    {
     "name": "stdout",
     "output_type": "stream",
     "text": [
      "<class 'pandas.core.frame.DataFrame'>\n",
      "RangeIndex: 51490 entries, 0 to 51489\n",
      "Data columns (total 42 columns):\n",
      " #   Column                          Non-Null Count  Dtype  \n",
      "---  ------                          --------------  -----  \n",
      " 0   Report Number                   51490 non-null  object \n",
      " 1   Local Case Number               45037 non-null  object \n",
      " 2   Agency Name                     51490 non-null  object \n",
      " 3   ACRS Report Type                51490 non-null  object \n",
      " 4   Crash Date/Time                 51490 non-null  object \n",
      " 5   Route Type                      46522 non-null  object \n",
      " 6   Road Name                       46988 non-null  object \n",
      " 7   Cross-Street Type               46471 non-null  object \n",
      " 8   Cross-Street Name               46968 non-null  object \n",
      " 9   Off-Road Description            6950 non-null   object \n",
      " 10  Municipality                    7567 non-null   object \n",
      " 11  Related Non-Motorist            3648 non-null   object \n",
      " 12  Collision Type                  51191 non-null  object \n",
      " 13  Weather                         47461 non-null  object \n",
      " 14  Surface Condition               45611 non-null  object \n",
      " 15  Light                           50786 non-null  object \n",
      " 16  Traffic Control                 43716 non-null  object \n",
      " 17  Driver Substance Abuse          42395 non-null  object \n",
      " 18  Non-Motorist Substance Abuse    3384 non-null   object \n",
      " 19  Person ID                       51490 non-null  object \n",
      " 20  Injury Severity                 51490 non-null  object \n",
      " 21  Circumstance                    11752 non-null  object \n",
      " 22  Drivers License State           48962 non-null  object \n",
      " 23  Vehicle ID                      51490 non-null  object \n",
      " 24  Vehicle Damage Extent           51093 non-null  object \n",
      " 25  Vehicle First Impact Location   51268 non-null  object \n",
      " 26  Vehicle Second Impact Location  51256 non-null  object \n",
      " 27  Vehicle Body Type               50705 non-null  object \n",
      " 28  Vehicle Movement                51292 non-null  object \n",
      " 29  Vehicle Continuing Dir          50361 non-null  object \n",
      " 30  Vehicle Going Dir               50377 non-null  object \n",
      " 31  Speed Limit                     51490 non-null  int64  \n",
      " 32  Driverless Vehicle              51490 non-null  object \n",
      " 33  Parked Vehicle                  51490 non-null  object \n",
      " 34  Vehicle Year                    51490 non-null  int64  \n",
      " 35  Vehicle Make                    51482 non-null  object \n",
      " 36  Vehicle Model                   51471 non-null  object \n",
      " 37  Equipment Problems              40824 non-null  object \n",
      " 38  Latitude                        51490 non-null  float64\n",
      " 39  Longitude                       51490 non-null  float64\n",
      " 40  Location                        51490 non-null  object \n",
      " 41  Fault                           51490 non-null  int64  \n",
      "dtypes: float64(2), int64(3), object(37)\n",
      "memory usage: 16.5+ MB\n"
     ]
    },
    {
     "name": "stderr",
     "output_type": "stream",
     "text": [
      "/usr/lib/python3/dist-packages/IPython/core/interactiveshell.py:3427: DtypeWarning: Columns (2) have mixed types.Specify dtype option on import or set low_memory=False.\n",
      "  exec(code_obj, self.user_global_ns, self.user_ns)\n"
     ]
    }
   ],
   "source": [
    "\n",
    "df = pandas.read_csv('train.csv')\n",
    "ts = pandas.read_csv('test.csv')\n",
    "df.info()"
   ]
  },
  {
   "cell_type": "code",
   "execution_count": 60,
   "metadata": {},
   "outputs": [
    {
     "name": "stdout",
     "output_type": "stream",
     "text": [
      "<class 'pandas.core.frame.DataFrame'>\n",
      "RangeIndex: 51490 entries, 0 to 51489\n",
      "Data columns (total 42 columns):\n",
      " #   Column                          Non-Null Count  Dtype  \n",
      "---  ------                          --------------  -----  \n",
      " 0   Report Number                   51490 non-null  object \n",
      " 1   Local Case Number               45037 non-null  object \n",
      " 2   Agency Name                     51490 non-null  object \n",
      " 3   ACRS Report Type                51490 non-null  object \n",
      " 4   Crash Date/Time                 51490 non-null  object \n",
      " 5   Route Type                      46522 non-null  object \n",
      " 6   Road Name                       46988 non-null  object \n",
      " 7   Cross-Street Type               46471 non-null  object \n",
      " 8   Cross-Street Name               46968 non-null  object \n",
      " 9   Off-Road Description            6950 non-null   object \n",
      " 10  Municipality                    7567 non-null   object \n",
      " 11  Related Non-Motorist            3648 non-null   object \n",
      " 12  Collision Type                  51191 non-null  object \n",
      " 13  Weather                         47461 non-null  object \n",
      " 14  Surface Condition               45611 non-null  object \n",
      " 15  Light                           50786 non-null  object \n",
      " 16  Traffic Control                 43716 non-null  object \n",
      " 17  Driver Substance Abuse          42395 non-null  object \n",
      " 18  Non-Motorist Substance Abuse    3384 non-null   object \n",
      " 19  Person ID                       51490 non-null  object \n",
      " 20  Injury Severity                 51490 non-null  object \n",
      " 21  Circumstance                    11752 non-null  object \n",
      " 22  Drivers License State           48962 non-null  object \n",
      " 23  Vehicle ID                      51490 non-null  object \n",
      " 24  Vehicle Damage Extent           51093 non-null  object \n",
      " 25  Vehicle First Impact Location   51268 non-null  object \n",
      " 26  Vehicle Second Impact Location  51256 non-null  object \n",
      " 27  Vehicle Body Type               50705 non-null  object \n",
      " 28  Vehicle Movement                51292 non-null  object \n",
      " 29  Vehicle Continuing Dir          50361 non-null  object \n",
      " 30  Vehicle Going Dir               50377 non-null  object \n",
      " 31  Speed Limit                     51490 non-null  int64  \n",
      " 32  Driverless Vehicle              51490 non-null  object \n",
      " 33  Parked Vehicle                  51490 non-null  object \n",
      " 34  Vehicle Year                    51490 non-null  int64  \n",
      " 35  Vehicle Make                    51482 non-null  object \n",
      " 36  Vehicle Model                   51471 non-null  object \n",
      " 37  Equipment Problems              40824 non-null  object \n",
      " 38  Latitude                        51490 non-null  float64\n",
      " 39  Longitude                       51490 non-null  float64\n",
      " 40  Location                        51490 non-null  object \n",
      " 41  Fault                           51490 non-null  int64  \n",
      "dtypes: float64(2), int64(3), object(37)\n",
      "memory usage: 16.5+ MB\n"
     ]
    }
   ],
   "source": [
    "df['Agency Name'] = df['Agency Name'].str.replace(\"Montgomery County Police\",'MONTGOMERY')\n",
    "df['Driver Substance Abuse'] = df['Driver Substance Abuse'].str.replace(\"CONTRIBUTED\",'PRESENT')\n",
    "df['Driver Substance Abuse'] = df['Driver Substance Abuse'].str.replace(\"COMBINED SUBSTANCE\",'COMBINATION')\n",
    "\n",
    "df['Related Non-Motorist'].value_counts()\n",
    "df.info()\n"
   ]
  },
  {
   "cell_type": "code",
   "execution_count": 41,
   "metadata": {},
   "outputs": [],
   "source": [
    "\n",
    "# ts['ACRS Report Type'].isna().sum()#.value_counts()\n",
    "\n",
    "# ts['Vehicle Body Type'].value_counts()\n",
    "# ts['Vehicle Year'].describe()"
   ]
  },
  {
   "cell_type": "code",
   "execution_count": 58,
   "metadata": {},
   "outputs": [
    {
     "name": "stdout",
     "output_type": "stream",
     "text": [
      "df[column]: Report Number 3256\n",
      "df[column]: Local Case Number 1430\n",
      "df[column]: Agency Name 9\n",
      "df[column]: ACRS Report Type 3\n",
      "df[column]: Crash Date/Time 39573\n",
      "df[column]: Route Type 11\n",
      "df[column]: Road Name 2227\n",
      "df[column]: Cross-Street Type 11\n",
      "df[column]: Cross-Street Name 4526\n",
      "df[column]: Off-Road Description 4018\n",
      "df[column]: Municipality 21\n",
      "df[column]: Related Non-Motorist 12\n",
      "df[column]: Collision Type 19\n",
      "df[column]: Weather 13\n",
      "df[column]: Surface Condition 12\n",
      "df[column]: Light 9\n",
      "df[column]: Traffic Control 12\n",
      "df[column]: Driver Substance Abuse 8\n",
      "df[column]: Non-Motorist Substance Abuse 10\n",
      "df[column]: Person ID 49209\n",
      "df[column]: Injury Severity 5\n",
      "df[column]: Circumstance 140\n",
      "df[column]: Drivers License State 66\n",
      "df[column]: Vehicle ID 49160\n",
      "df[column]: Vehicle Damage Extent 8\n",
      "df[column]: Vehicle First Impact Location 17\n",
      "df[column]: Vehicle Second Impact Location 17\n",
      "df[column]: Vehicle Body Type 31\n",
      "df[column]: Vehicle Movement 23\n",
      "df[column]: Vehicle Continuing Dir 6\n",
      "df[column]: Vehicle Going Dir 6\n",
      "df[column]: Driverless Vehicle 2\n",
      "df[column]: Parked Vehicle 2\n",
      "df[column]: Vehicle Make 887\n",
      "df[column]: Vehicle Model 3129\n",
      "df[column]: Equipment Problems 9\n",
      "df[column]: Location 38953\n"
     ]
    }
   ],
   "source": [
    "for column in df.columns:\n",
    "    if df[column].dtype == object:\n",
    "        print(\"df[column]:\",column,len(pandas.unique(df[column])))"
   ]
  },
  {
   "cell_type": "code",
   "execution_count": 59,
   "metadata": {},
   "outputs": [
    {
     "name": "stdout",
     "output_type": "stream",
     "text": [
      "ts[column]: Report Number 3261\n",
      "ts[column]: Local Case Number 2817\n",
      "ts[column]: Agency Name 10\n",
      "ts[column]: ACRS Report Type 3\n",
      "ts[column]: Crash Date/Time 54615\n",
      "ts[column]: Route Type 11\n",
      "ts[column]: Road Name 2728\n",
      "ts[column]: Cross-Street Type 11\n",
      "ts[column]: Cross-Street Name 5253\n",
      "ts[column]: Off-Road Description 5772\n",
      "ts[column]: Municipality 21\n",
      "ts[column]: Related Non-Motorist 10\n",
      "ts[column]: Collision Type 19\n",
      "ts[column]: Weather 13\n",
      "ts[column]: Surface Condition 12\n",
      "ts[column]: Light 9\n",
      "ts[column]: Traffic Control 12\n",
      "ts[column]: Driver Substance Abuse 12\n",
      "ts[column]: Non-Motorist Substance Abuse 13\n",
      "ts[column]: Person ID 77235\n",
      "ts[column]: Injury Severity 5\n",
      "ts[column]: Circumstance 149\n",
      "ts[column]: Drivers License State 74\n",
      "ts[column]: Vehicle ID 77235\n",
      "ts[column]: Vehicle Damage Extent 8\n",
      "ts[column]: Vehicle First Impact Location 17\n",
      "ts[column]: Vehicle Second Impact Location 17\n",
      "ts[column]: Vehicle Body Type 31\n",
      "ts[column]: Vehicle Movement 23\n",
      "ts[column]: Vehicle Continuing Dir 6\n",
      "ts[column]: Vehicle Going Dir 6\n",
      "ts[column]: Driverless Vehicle 2\n",
      "ts[column]: Parked Vehicle 2\n",
      "ts[column]: Vehicle Make 1189\n",
      "ts[column]: Vehicle Model 4043\n",
      "ts[column]: Equipment Problems 11\n",
      "ts[column]: Location 53350\n"
     ]
    }
   ],
   "source": [
    "for column in ts.columns:\n",
    "    if ts[column].dtype == object:\n",
    "        print(\"ts[column]:\",column,len(pandas.unique(ts[column])))"
   ]
  },
  {
   "cell_type": "code",
   "execution_count": null,
   "metadata": {},
   "outputs": [],
   "source": []
  }
 ],
 "metadata": {
  "interpreter": {
   "hash": "916dbcbb3f70747c44a77c7bcd40155683ae19c65e1c03b4aa3499c5328201f1"
  },
  "kernelspec": {
   "display_name": "Python 3.9.7 64-bit",
   "language": "python",
   "name": "python3"
  },
  "language_info": {
   "codemirror_mode": {
    "name": "ipython",
    "version": 3
   },
   "file_extension": ".py",
   "mimetype": "text/x-python",
   "name": "python",
   "nbconvert_exporter": "python",
   "pygments_lexer": "ipython3",
   "version": "3.9.7"
  },
  "orig_nbformat": 4
 },
 "nbformat": 4,
 "nbformat_minor": 2
}
