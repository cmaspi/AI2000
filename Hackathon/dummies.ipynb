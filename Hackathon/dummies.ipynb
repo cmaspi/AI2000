{
 "cells": [
  {
   "cell_type": "code",
   "execution_count": 17,
   "metadata": {},
   "outputs": [],
   "source": [
    "import numpy as np\n",
    "import pandas as pd\n",
    "import numpy as np\n",
    "\n",
    "def normalise(a):\n",
    "    if a<0:\n",
    "        a=-a\n",
    "    a=a/np.power(10,np.floor(np.log10(a)))\n",
    "    return a\n",
    "\n",
    "    "
   ]
  },
  {
   "cell_type": "code",
   "execution_count": 18,
   "metadata": {},
   "outputs": [],
   "source": [
    "df = pd.read_csv('train.csv', low_memory=False)\n",
    "test = pd.read_csv('test.csv', low_memory=False)\n",
    "test.drop(columns=['Id'],inplace=True)\n",
    "df = pd.concat([df,test])\n",
    "\n",
    "df['Location'] = df['Location'].str.replace(\",\",' ')\n",
    "# df[['loc1','loc2']] = df.Location.str.split(' ',expand = True).astype(float)\n",
    "# print(df['loc2'].dtype)\n",
    "# print(len(df[]))\n",
    "# for i in range(len(df.index)):\n",
    "# print(df['loc2'].shape)\n",
    "\n",
    "df['Crash Date/Time'] = pd.to_datetime(df['Crash Date/Time'])\n",
    "df['Hour'] = df['Crash Date/Time'].dt.hour\n",
    "df['day'] = df['Crash Date/Time'].dt.dayofweek\n",
    "df['Agency Name'] = df['Agency Name'].str.replace(\"Montgomery County Police\",'MONTGOMERY')\n",
    "df['Driver Substance Abuse'] = df['Driver Substance Abuse'].str.replace(\"CONTRIBUTED\",'PRESENT')\n",
    "df['Driver Substance Abuse'] = df['Driver Substance Abuse'].str.replace(\"COMBINED SUBSTANCE\",'COMBINATION')\n",
    "# df['ACRS Report Type'].fillna(\"UNKNOWN\", inplace=True)\n",
    "df.drop(columns = ['Report Number','Local Case Number','Road Name','Cross-Street Name','Off-Road Description','Municipality','Location','Circumstance','Vehicle Model', 'Vehicle Make','Vehicle ID','Road Name','Person ID','Driverless Vehicle','Crash Date/Time','Vehicle Year'],inplace=True)\n",
    "\n",
    "# df['Route Type'].fillna(\"UNKNOWN\", inplace=True)\n",
    "# df['Cross-Street Type'].fillna(\"UNKNOWN\", inplace=True)\n",
    "# df['Collision Type'].fillna(\"UNKNOWN\", inplace=True)\n",
    "# df['Parked Vehicle'].fillna(\"UNKNOWN\", inplace=True)\n",
    "# df['Vehicle First Impact Location'].fillna(\"UNKNOWN\", inplace=True)\n",
    "# df['Vehicle Second Impact Location'].fillna(\"UNKNOWN\", inplace=True)\n",
    "# df['Vehicle Damage Extent'].fillna(\"UNKNOWN\", inplace=True)\n",
    "# df['Injury Severity'].fillna(\"UNKNOWN\", inplace=True)\n",
    "# df['Vehicle Movement'].fillna(\"UNKNOWN\", inplace=True)\n",
    "# df['Driver Substance Abuse'].fillna(\"UNKNOWN\", inplace=True)\n",
    "# df['Non-Motorist Substance Abuse'].fillna(\"UNKNOWN\", inplace=True)\n",
    "# df['Weather'].fillna(\"CLEAR\", inplace=True)\n",
    "# df['Surface Condition'].fillna(\"DRY\", inplace=True)\n",
    "# df['Light'].fillna(\"DAYLIGHT\", inplace=True)\n",
    "# df['Vehicle Body Type'].fillna(\"PASSENGER CAR\", inplace=True)\n",
    "# df['Traffic Control'].fillna(\"UNKNOWN\", inplace=True)\n",
    "# df['Agency Name'].fillna(\"UNKNOWN\", inplace=True)\n",
    "# df['Vehicle Continuing Dir'].fillna(\"UNKNOWN\", inplace=True)\n",
    "# df['Vehicle Going Dir'].fillna(\"UNKNOWN\", inplace=True)\n",
    "# df['Equipment Problems'].fillna(\"NO MISUSE\", inplace=True)\n",
    "\n",
    "one_hot = pd.get_dummies(df)\n",
    "m = one_hot.shape[1]\n",
    "# one_hot.info()\n",
    "# one_hot.head()\n",
    "# one_hot['Agency Name_MONTGOMERY'].value_counts(dropna=False)\n",
    "\n"
   ]
  },
  {
   "cell_type": "code",
   "execution_count": 19,
   "metadata": {},
   "outputs": [
    {
     "name": "stdout",
     "output_type": "stream",
     "text": [
      "325\n",
      "<class 'pandas.core.frame.DataFrame'>\n",
      "Int64Index: 128725 entries, 0 to 77234\n",
      "Columns: 325 entries, Speed Limit to Equipment Problems_UNKNOWN\n",
      "dtypes: float64(3), int64(3), uint8(319)\n",
      "memory usage: 46.0 MB\n"
     ]
    }
   ],
   "source": [
    "print(m)\n",
    "dr = np.random.randint(m,size=5)\n",
    "# one_hot.drop(one_hot.columns[dr] ,axis=1, inplace=True)\n",
    "one_hot.info()"
   ]
  },
  {
   "cell_type": "code",
   "execution_count": 20,
   "metadata": {},
   "outputs": [
    {
     "data": {
      "text/plain": [
       "(128725, 324)"
      ]
     },
     "execution_count": 20,
     "metadata": {},
     "output_type": "execute_result"
    }
   ],
   "source": [
    "\n",
    "label = one_hot['Fault'].to_numpy(dtype=float)\n",
    "train = one_hot.drop(columns = ['Fault']).to_numpy(dtype=float)\n",
    "train.shape\n",
    "# print('hello',df['loc1'][0],df['loc2'][1])#=normalise(df['loc2'][0])\n",
    "# "
   ]
  },
  {
   "cell_type": "code",
   "execution_count": 21,
   "metadata": {},
   "outputs": [
    {
     "name": "stdout",
     "output_type": "stream",
     "text": [
      "(128725, 324)\n"
     ]
    },
    {
     "data": {
      "text/plain": [
       "(77235, 324)"
      ]
     },
     "execution_count": 21,
     "metadata": {},
     "output_type": "execute_result"
    }
   ],
   "source": [
    "print(train.shape)\n",
    "test = train[51490:]\n",
    "train = train[:51490]\n",
    "label = label[:51490]\n",
    "from sklearn.model_selection import train_test_split\n",
    "\n",
    "x,xt,y,yt = train_test_split(train, label, test_size=0.2)\n",
    "test.shape"
   ]
  },
  {
   "cell_type": "code",
   "execution_count": 22,
   "metadata": {},
   "outputs": [
    {
     "name": "stdout",
     "output_type": "stream",
     "text": [
      "[LightGBM] [Warning] num_iterations is set=1000, n_iter=1000 will be ignored. Current value: num_iterations=1000\n"
     ]
    },
    {
     "name": "stderr",
     "output_type": "stream",
     "text": [
      "/home/cmaspi/.local/lib/python3.9/site-packages/lightgbm/engine.py:177: UserWarning: Found `n_iter` in params. Will use it instead of argument\n",
      "  _log_warning(f\"Found `{alias}` in params. Will use it instead of argument\")\n"
     ]
    },
    {
     "data": {
      "text/plain": [
       "LGBMClassifier(boosting_type='dart', drop_rate=0.5, max_drop=50, n_iter=1000)"
      ]
     },
     "execution_count": 22,
     "metadata": {},
     "output_type": "execute_result"
    }
   ],
   "source": [
    "# from sklearn.ensemble import GradientBoostingClassifier\n",
    "# from xgboost import XGBClassifier\n",
    "from lightgbm import LGBMClassifier\n",
    "\n",
    "clf = LGBMClassifier(boosting_type='dart', drop_rate=0.5, max_drop=50, n_iter=1000)\n",
    "clf.fit(train , label)\n",
    "# pred = clf.predict(xt)\n",
    "# print(yt.shape, pred.shape)\n",
    "# print(accuracy(yt, pred))\n",
    "# print(yt, pred)"
   ]
  },
  {
   "cell_type": "code",
   "execution_count": 23,
   "metadata": {},
   "outputs": [
    {
     "data": {
      "text/plain": [
       "0.8923091862497572"
      ]
     },
     "execution_count": 23,
     "metadata": {},
     "output_type": "execute_result"
    }
   ],
   "source": [
    "clf.score(xt, yt)\n"
   ]
  },
  {
   "cell_type": "code",
   "execution_count": 24,
   "metadata": {},
   "outputs": [
    {
     "name": "stdout",
     "output_type": "stream",
     "text": [
      "<class 'pandas.core.frame.DataFrame'>\n",
      "RangeIndex: 77235 entries, 0 to 77234\n",
      "Data columns (total 2 columns):\n",
      " #   Column  Non-Null Count  Dtype\n",
      "---  ------  --------------  -----\n",
      " 0   0       77235 non-null  int64\n",
      " 1   1       77235 non-null  int64\n",
      "dtypes: int64(2)\n",
      "memory usage: 1.2 MB\n"
     ]
    }
   ],
   "source": [
    "pred = clf.predict(test)\n",
    "n = len(pred)\n",
    "pred =np.c_[np.linspace(0,n-1,n),pred]\n",
    "pred=np.array(pred, dtype=int)\n",
    "output = pd.DataFrame(pred)\n",
    "output.to_csv('output.csv', header= ['Id','Fault'],index=False)\n",
    "output.info()"
   ]
  },
  {
   "cell_type": "code",
   "execution_count": null,
   "metadata": {},
   "outputs": [],
   "source": []
  }
 ],
 "metadata": {
  "interpreter": {
   "hash": "916dbcbb3f70747c44a77c7bcd40155683ae19c65e1c03b4aa3499c5328201f1"
  },
  "kernelspec": {
   "display_name": "Python 3.9.7 64-bit",
   "language": "python",
   "name": "python3"
  },
  "language_info": {
   "codemirror_mode": {
    "name": "ipython",
    "version": 3
   },
   "file_extension": ".py",
   "mimetype": "text/x-python",
   "name": "python",
   "nbconvert_exporter": "python",
   "pygments_lexer": "ipython3",
   "version": "3.9.7"
  },
  "orig_nbformat": 4
 },
 "nbformat": 4,
 "nbformat_minor": 2
}
