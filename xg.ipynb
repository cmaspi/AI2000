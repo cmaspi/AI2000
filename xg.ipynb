{
 "cells": [
  {
   "cell_type": "code",
   "execution_count": 1,
   "metadata": {},
   "outputs": [],
   "source": [
    "import numpy as np\n",
    "import pandas as pd\n",
    "import numpy as np\n",
    "import category_encoders as ce\n",
    "\n",
    "def normalise(a):\n",
    "    if a<0:\n",
    "        a=-a\n",
    "    a=a/np.power(10,np.floor(np.log10(a)))\n",
    "    return a\n",
    "\n",
    "    "
   ]
  },
  {
   "cell_type": "code",
   "execution_count": 2,
   "metadata": {},
   "outputs": [
    {
     "name": "stderr",
     "output_type": "stream",
     "text": [
      "/home/cmaspi/.local/lib/python3.9/site-packages/category_encoders/polynomial.py:216: FutureWarning: In a future version of pandas all arguments of DataFrame.drop except for the argument 'labels' will be keyword-only\n",
      "  X.drop(col, 1, inplace=True)\n"
     ]
    }
   ],
   "source": [
    "df = pd.read_csv('train.csv', low_memory=False)\n",
    "test = pd.read_csv('test.csv', low_memory=False)\n",
    "test.drop(columns=['Id'],inplace=True)\n",
    "df = pd.concat([df,test])\n",
    "\n",
    "df['Location'] = df['Location'].str.replace(\",\",' ')\n",
    "# df[['loc1','loc2']] = df.Location.str.split(' ',expand = True).astype(float)\n",
    "# print(df['loc2'].dtype)\n",
    "# print(len(df[]))\n",
    "# for i in range(len(df.index)):\n",
    "# print(df['loc2'].shape)\n",
    "\n",
    "df['Crash Date/Time'] = pd.to_datetime(df['Crash Date/Time'])\n",
    "df['Hour'] = df['Crash Date/Time'].dt.hour\n",
    "df['day'] = df['Crash Date/Time'].dt.dayofweek\n",
    "df['Agency Name'] = df['Agency Name'].str.replace(\"Montgomery County Police\",'MONTGOMERY')\n",
    "df['Driver Substance Abuse'] = df['Driver Substance Abuse'].str.replace(\"CONTRIBUTED\",'PRESENT')\n",
    "df['Driver Substance Abuse'] = df['Driver Substance Abuse'].str.replace(\"COMBINED SUBSTANCE\",'COMBINATION')\n",
    "# df['ACRS Report Type'].fillna(\"UNKNOWN\", inplace=True)\n",
    "df.drop(columns = ['Report Number','Local Case Number','Road Name','Cross-Street Name','Off-Road Description','Municipality','Location','Circumstance','Vehicle Model', 'Vehicle Make','Vehicle ID','Road Name','Person ID','Driverless Vehicle','Crash Date/Time','Vehicle Year'],inplace=True)\n",
    "\n",
    "# df['Route Type'].fillna(\"UNKNOWN\", inplace=True)\n",
    "# df['Cross-Street Type'].fillna(\"UNKNOWN\", inplace=True)\n",
    "# df['Collision Type'].fillna(\"UNKNOWN\", inplace=True)\n",
    "# df['Parked Vehicle'].fillna(\"UNKNOWN\", inplace=True)\n",
    "# df['Vehicle First Impact Location'].fillna(\"UNKNOWN\", inplace=True)\n",
    "# df['Vehicle Second Impact Location'].fillna(\"UNKNOWN\", inplace=True)\n",
    "# df['Vehicle Damage Extent'].fillna(\"UNKNOWN\", inplace=True)\n",
    "# df['Injury Severity'].fillna(\"UNKNOWN\", inplace=True)\n",
    "# df['Vehicle Movement'].fillna(\"UNKNOWN\", inplace=True)\n",
    "# df['Driver Substance Abuse'].fillna(\"UNKNOWN\", inplace=True)\n",
    "# df['Non-Motorist Substance Abuse'].fillna(\"UNKNOWN\", inplace=True)\n",
    "# df['Weather'].fillna(\"CLEAR\", inplace=True)\n",
    "# df['Surface Condition'].fillna(\"DRY\", inplace=True)\n",
    "# df['Light'].fillna(\"DAYLIGHT\", inplace=True)\n",
    "# df['Vehicle Body Type'].fillna(\"PASSENGER CAR\", inplace=True)\n",
    "# df['Traffic Control'].fillna(\"UNKNOWN\", inplace=True)\n",
    "# df['Agency Name'].fillna(\"UNKNOWN\", inplace=True)\n",
    "# df['Vehicle Continuing Dir'].fillna(\"UNKNOWN\", inplace=True)\n",
    "# df['Vehicle Going Dir'].fillna(\"UNKNOWN\", inplace=True)\n",
    "# df['Equipment Problems'].fillna(\"NO MISUSE\", inplace=True)\n",
    "cl=[]\n",
    "for column in df.columns:\n",
    "    if df[column].dtype == object:\n",
    "        cl.append(column)\n",
    "encoder = ce.polynomial.PolynomialEncoder(verbose=False, cols=cl, drop_invariant=True)\n",
    "one_hot= encoder.fit_transform(df)\n",
    "\n",
    "# one_hot = pd.get_dummies(df)\n",
    "# one_hot.info()\n",
    "# one_hot.head()\n",
    "# one_hot['Agency Name_MONTGOMERY'].value_counts(dropna=False)\n",
    "\n"
   ]
  },
  {
   "cell_type": "code",
   "execution_count": 3,
   "metadata": {},
   "outputs": [
    {
     "data": {
      "text/plain": [
       "(128725, 316)"
      ]
     },
     "execution_count": 3,
     "metadata": {},
     "output_type": "execute_result"
    }
   ],
   "source": [
    "label = one_hot['Fault'].to_numpy(dtype=float)\n",
    "train = one_hot.drop(columns = ['Fault']).to_numpy(dtype=float)\n",
    "train.shape\n",
    "# print('hello',df['loc1'][0],df['loc2'][1])#=normalise(df['loc2'][0])\n",
    "# "
   ]
  },
  {
   "cell_type": "code",
   "execution_count": 4,
   "metadata": {},
   "outputs": [
    {
     "name": "stdout",
     "output_type": "stream",
     "text": [
      "(128725, 316)\n"
     ]
    },
    {
     "data": {
      "text/plain": [
       "(77235, 316)"
      ]
     },
     "execution_count": 4,
     "metadata": {},
     "output_type": "execute_result"
    }
   ],
   "source": [
    "print(train.shape)\n",
    "test = train[51490:]\n",
    "train = train[:51490]\n",
    "label = label[:51490]\n",
    "from sklearn.model_selection import train_test_split\n",
    "\n",
    "x,xt,y,yt = train_test_split(train, label, test_size=0.2)\n",
    "test.shape"
   ]
  },
  {
   "cell_type": "code",
   "execution_count": 8,
   "metadata": {},
   "outputs": [
    {
     "data": {
      "text/plain": [
       "StackingClassifier(estimators=[('rf_1',\n",
       "                                RandomForestClassifier(max_features='sqrt',\n",
       "                                                       n_estimators=150)),\n",
       "                               ('rf_2',\n",
       "                                LGBMClassifier(boosting_type='dart',\n",
       "                                               drop_rate=0.5, max_drop=50,\n",
       "                                               n_iter=1000)),\n",
       "                               ('rf_3',\n",
       "                                XGBClassifier(base_score=None, booster=None,\n",
       "                                              colsample_bylevel=None,\n",
       "                                              colsample_bynode=None,\n",
       "                                              colsample_bytree=None,\n",
       "                                              enable_categorical=False,\n",
       "                                              gamma=None, gpu_id=None...\n",
       "                                              learning_rate=0.14,\n",
       "                                              max_delta_step=None, max_depth=8,\n",
       "                                              min_child_weight=None,\n",
       "                                              missing=nan,\n",
       "                                              monotone_constraints=None,\n",
       "                                              n_estimators=125, n_jobs=None,\n",
       "                                              num_parallel_tree=None,\n",
       "                                              predictor=None, random_state=None,\n",
       "                                              reg_alpha=None, reg_lambda=None,\n",
       "                                              scale_pos_weight=None,\n",
       "                                              subsample=None, tree_method=None,\n",
       "                                              use_label_encoder=False,\n",
       "                                              validate_parameters=None,\n",
       "                                              verbosity=None))],\n",
       "                   n_jobs=12)"
      ]
     },
     "execution_count": 8,
     "metadata": {},
     "output_type": "execute_result"
    }
   ],
   "source": [
    "from sklearn.ensemble import GradientBoostingClassifier\n",
    "from xgboost import XGBClassifier\n",
    "from lightgbm import LGBMClassifier\n",
    "from sklearn.ensemble import RandomForestClassifier\n",
    "base_learners = [\n",
    "                 ('rf_1', RandomForestClassifier(n_estimators=150, max_features='sqrt')),\n",
    "                 ('rf_2', LGBMClassifier(boosting_type='dart', drop_rate=0.5, max_drop=50, n_iter=1000)),\n",
    "                 ('rf_3', XGBClassifier(use_label_encoder=False, learning_rate = 0.14, n_estimators=125, max_depth=8))             \n",
    "                ]\n",
    "from sklearn.ensemble import StackingClassifier\n",
    "clf = StackingClassifier(estimators=base_learners, n_jobs=12)\n",
    "# clf = LGBMClassifier(boosting_type='dart', drop_rate=0.5, max_drop=50, n_iter=1000)\n",
    "# clf = XGBClassifier(use_label_encoder=False, learning_rate = 0.2, n_estimators=125, max_depth=8)\n",
    "clf.fit(train , label)\n",
    "# pred = clf.predict(xt)\n",
    "# print(yt.shape, pred.shape)\n",
    "# print(accuracy(yt, pred))\n",
    "# print(yt, pred)"
   ]
  },
  {
   "cell_type": "code",
   "execution_count": 9,
   "metadata": {},
   "outputs": [
    {
     "data": {
      "text/plain": [
       "0.9587298504563992"
      ]
     },
     "execution_count": 9,
     "metadata": {},
     "output_type": "execute_result"
    }
   ],
   "source": [
    "clf.score(xt, yt)\n"
   ]
  },
  {
   "cell_type": "code",
   "execution_count": 1,
   "metadata": {},
   "outputs": [
    {
     "ename": "NameError",
     "evalue": "name 'clf' is not defined",
     "output_type": "error",
     "traceback": [
      "\u001b[0;31m---------------------------------------------------------------------------\u001b[0m",
      "\u001b[0;31mNameError\u001b[0m                                 Traceback (most recent call last)",
      "\u001b[0;32m<ipython-input-1-4e96a2e1e031>\u001b[0m in \u001b[0;36m<module>\u001b[0;34m\u001b[0m\n\u001b[0;32m----> 1\u001b[0;31m \u001b[0mpred\u001b[0m \u001b[0;34m=\u001b[0m \u001b[0mclf\u001b[0m\u001b[0;34m.\u001b[0m\u001b[0mpredict\u001b[0m\u001b[0;34m(\u001b[0m\u001b[0mtest\u001b[0m\u001b[0;34m)\u001b[0m\u001b[0;34m\u001b[0m\u001b[0;34m\u001b[0m\u001b[0m\n\u001b[0m\u001b[1;32m      2\u001b[0m \u001b[0mn\u001b[0m \u001b[0;34m=\u001b[0m \u001b[0mlen\u001b[0m\u001b[0;34m(\u001b[0m\u001b[0mpred\u001b[0m\u001b[0;34m)\u001b[0m\u001b[0;34m\u001b[0m\u001b[0;34m\u001b[0m\u001b[0m\n\u001b[1;32m      3\u001b[0m \u001b[0mprint\u001b[0m\u001b[0;34m(\u001b[0m\u001b[0mn\u001b[0m\u001b[0;34m)\u001b[0m\u001b[0;34m\u001b[0m\u001b[0;34m\u001b[0m\u001b[0m\n\u001b[1;32m      4\u001b[0m \u001b[0mpred\u001b[0m \u001b[0;34m=\u001b[0m\u001b[0mnp\u001b[0m\u001b[0;34m.\u001b[0m\u001b[0mc_\u001b[0m\u001b[0;34m[\u001b[0m\u001b[0mnp\u001b[0m\u001b[0;34m.\u001b[0m\u001b[0mlinspace\u001b[0m\u001b[0;34m(\u001b[0m\u001b[0;36m0\u001b[0m\u001b[0;34m,\u001b[0m\u001b[0mn\u001b[0m\u001b[0;34m-\u001b[0m\u001b[0;36m1\u001b[0m\u001b[0;34m,\u001b[0m\u001b[0mn\u001b[0m\u001b[0;34m)\u001b[0m\u001b[0;34m,\u001b[0m\u001b[0mpred\u001b[0m\u001b[0;34m]\u001b[0m\u001b[0;34m\u001b[0m\u001b[0;34m\u001b[0m\u001b[0m\n\u001b[1;32m      5\u001b[0m \u001b[0mpred\u001b[0m\u001b[0;34m=\u001b[0m\u001b[0mnp\u001b[0m\u001b[0;34m.\u001b[0m\u001b[0marray\u001b[0m\u001b[0;34m(\u001b[0m\u001b[0mpred\u001b[0m\u001b[0;34m,\u001b[0m \u001b[0mdtype\u001b[0m\u001b[0;34m=\u001b[0m\u001b[0mint\u001b[0m\u001b[0;34m)\u001b[0m\u001b[0;34m\u001b[0m\u001b[0;34m\u001b[0m\u001b[0m\n",
      "\u001b[0;31mNameError\u001b[0m: name 'clf' is not defined"
     ]
    }
   ],
   "source": [
    "pred = clf.predict(test)\n",
    "n = len(pred)\n",
    "print(n)\n",
    "pred =np.c_[np.linspace(0,n-1,n),pred]\n",
    "pred=np.array(pred, dtype=int)\n",
    "output = pd.DataFrame(pred)\n",
    "output.to_csv('output.csv', header= ['Id','Fault'],index=False)\n",
    "output.info()"
   ]
  },
  {
   "cell_type": "code",
   "execution_count": null,
   "metadata": {},
   "outputs": [],
   "source": []
  }
 ],
 "metadata": {
  "interpreter": {
   "hash": "916dbcbb3f70747c44a77c7bcd40155683ae19c65e1c03b4aa3499c5328201f1"
  },
  "kernelspec": {
   "display_name": "Python 3.9.7 64-bit",
   "language": "python",
   "name": "python3"
  },
  "language_info": {
   "codemirror_mode": {
    "name": "ipython",
    "version": 3
   },
   "file_extension": ".py",
   "mimetype": "text/x-python",
   "name": "python",
   "nbconvert_exporter": "python",
   "pygments_lexer": "ipython3",
   "version": "3.9.7"
  },
  "orig_nbformat": 4
 },
 "nbformat": 4,
 "nbformat_minor": 2
}
